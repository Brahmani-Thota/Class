{
 "cells": [
  {
   "cell_type": "code",
   "execution_count": 44,
   "metadata": {},
   "outputs": [
    {
     "name": "stderr",
     "output_type": "stream",
     "text": [
      "[nltk_data] Downloading package stopwords to\n",
      "[nltk_data]     /Users/tonydiana/nltk_data...\n",
      "[nltk_data]   Package stopwords is already up-to-date!\n"
     ]
    }
   ],
   "source": [
    "from gensim.summarization import keywords\n",
    "import spacy\n",
    "import pandas as pd\n",
    "import nltk\n",
    "from nltk.corpus import stopwords\n",
    "nltk.download('stopwords')\n",
    "stopwords = set(stopwords.words('english'))\n",
    "from spacy.lang.en import English\n",
    "nlp = English()\n",
    "nlp.max_length = 10000000\n",
    "import pandas as pd\n",
    "from textblob import TextBlob \n",
    "import numpy as np\n",
    "text=pd.read_csv('/Users/tonydiana/Data/BUR092019.csv')"
   ]
  },
  {
   "cell_type": "code",
   "execution_count": 51,
   "metadata": {},
   "outputs": [],
   "source": [
    "def text_sentiment(text): \n",
    "\t''' \n",
    "\tFunction to return sentiment score of text\n",
    "\t'''\n",
    "\tanalysis = TextBlob(text) \n",
    "\treturn analysis.sentiment.polarity"
   ]
  },
  {
   "cell_type": "code",
   "execution_count": 52,
   "metadata": {},
   "outputs": [],
   "source": [
    "# Function to preprocess text\n",
    "def preprocess(text):\n",
    "    # Create Doc object\n",
    "    doc = nlp(text, disable=['ner', 'parser'])\n",
    "    # Generate lemmas\n",
    "    lemmas = [token.lemma_ for token in doc]\n",
    "    # Remove stopwords and non-alphabetic characters\n",
    "    a_lemmas = [lemma for lemma in lemmas \n",
    "            if lemma.isalpha() and lemma not in stopwords]\n",
    "    \n",
    "    return ' '.join(a_lemmas)\n",
    "    \n",
    "\"\"\"Extract Keywords from text\"\"\"\n",
    "def return_keywords(texts):\n",
    "    xkeywords = []\n",
    "    values = keywords(text=preprocess(texts),split='\\n',scores=True)\n",
    "    for x in values[:10]:\n",
    "        xkeywords.append(x[0])\n",
    "    try:\n",
    "        return xkeywords \n",
    "    except:\n",
    "        return \"no content\""
   ]
  },
  {
   "cell_type": "code",
   "execution_count": 64,
   "metadata": {},
   "outputs": [
    {
     "name": "stdout",
     "output_type": "stream",
     "text": [
      "Overall Sentiment:  0.101\n",
      "Standard Deviation: 0.181\n"
     ]
    }
   ],
   "source": [
    "print('Overall Sentiment: ',round(np.mean(sentiment),3))\n",
    "print('Standard Deviation:', round(np.std(sentiment),3))"
   ]
  },
  {
   "cell_type": "code",
   "execution_count": 67,
   "metadata": {},
   "outputs": [
    {
     "data": {
      "text/plain": [
       "Sentiment(polarity=0.11799209486166007, subjectivity=0.3648715101323797)"
      ]
     },
     "execution_count": 67,
     "metadata": {},
     "output_type": "execute_result"
    }
   ],
   "source": [
    "from textblob import TextBlob\n",
    "from os import path\n",
    "ObjRead = open('/Users/tonydiana/Data/BUR092019.csv', \"r\")\n",
    "txtContent = ObjRead.read();\n",
    "ObjRead.close()\n",
    "testimonial = TextBlob(txtContent)\n",
    "testimonial.sentiment"
   ]
  }
 ],
 "metadata": {
  "kernelspec": {
   "display_name": "Python 3",
   "language": "python",
   "name": "python3"
  },
  "language_info": {
   "codemirror_mode": {
    "name": "ipython",
    "version": 3
   },
   "file_extension": ".py",
   "mimetype": "text/x-python",
   "name": "python",
   "nbconvert_exporter": "python",
   "pygments_lexer": "ipython3",
   "version": "3.7.4"
  }
 },
 "nbformat": 4,
 "nbformat_minor": 2
}
