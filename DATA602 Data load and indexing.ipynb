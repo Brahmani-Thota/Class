{
 "cells": [
  {
   "cell_type": "code",
   "execution_count": 1,
   "metadata": {},
   "outputs": [],
   "source": [
    "# DATA LOAD, CREATION OF Y VARIABLE, DROPPING COLUMN\n",
    "\n",
    "import pandas as pd\n",
    "import numpy as np"
   ]
  },
  {
   "cell_type": "code",
   "execution_count": 7,
   "metadata": {},
   "outputs": [],
   "source": [
    "# Load the file\n",
    "df = pd.read_csv(\"d:/machine learning/USA_Housing.csv\")"
   ]
  },
  {
   "cell_type": "code",
   "execution_count": 8,
   "metadata": {},
   "outputs": [
    {
     "data": {
      "text/plain": [
       "Index(['Avg. Area Income', 'Avg. Area House Age', 'Avg. Area Number of Rooms',\n",
       "       'Avg. Area Number of Bedrooms', 'Area Population', 'Price', 'Address'],\n",
       "      dtype='object')"
      ]
     },
     "execution_count": 8,
     "metadata": {},
     "output_type": "execute_result"
    }
   ],
   "source": [
    "# View columns\n",
    "df.columns"
   ]
  },
  {
   "cell_type": "code",
   "execution_count": 10,
   "metadata": {},
   "outputs": [
    {
     "data": {
      "text/plain": [
       "RangeIndex(start=0, stop=5000, step=1)"
      ]
     },
     "execution_count": 10,
     "metadata": {},
     "output_type": "execute_result"
    }
   ],
   "source": [
    "# The dataset contains 5000 rows, from index 0 to 5000\n",
    "df.index"
   ]
  },
  {
   "cell_type": "code",
   "execution_count": 17,
   "metadata": {},
   "outputs": [
    {
     "data": {
      "text/html": [
       "<div>\n",
       "<style scoped>\n",
       "    .dataframe tbody tr th:only-of-type {\n",
       "        vertical-align: middle;\n",
       "    }\n",
       "\n",
       "    .dataframe tbody tr th {\n",
       "        vertical-align: top;\n",
       "    }\n",
       "\n",
       "    .dataframe thead th {\n",
       "        text-align: right;\n",
       "    }\n",
       "</style>\n",
       "<table border=\"1\" class=\"dataframe\">\n",
       "  <thead>\n",
       "    <tr style=\"text-align: right;\">\n",
       "      <th></th>\n",
       "      <th>Avg. Area Income</th>\n",
       "      <th>Avg. Area House Age</th>\n",
       "      <th>Avg. Area Number of Rooms</th>\n",
       "    </tr>\n",
       "    <tr>\n",
       "      <th>Address</th>\n",
       "      <th></th>\n",
       "      <th></th>\n",
       "      <th></th>\n",
       "    </tr>\n",
       "  </thead>\n",
       "  <tbody>\n",
       "    <tr>\n",
       "      <th>208 Michael Ferry Apt. 674\\nLaurabury, NE 37010-5101</th>\n",
       "      <td>79545.45857</td>\n",
       "      <td>5.682861</td>\n",
       "      <td>7.009188</td>\n",
       "    </tr>\n",
       "    <tr>\n",
       "      <th>188 Johnson Views Suite 079\\nLake Kathleen, CA 48958</th>\n",
       "      <td>79248.64245</td>\n",
       "      <td>6.002900</td>\n",
       "      <td>6.730821</td>\n",
       "    </tr>\n",
       "    <tr>\n",
       "      <th>9127 Elizabeth Stravenue\\nDanieltown, WI 06482-3489</th>\n",
       "      <td>61287.06718</td>\n",
       "      <td>5.865890</td>\n",
       "      <td>8.512727</td>\n",
       "    </tr>\n",
       "    <tr>\n",
       "      <th>USS Barnett\\nFPO AP 44820</th>\n",
       "      <td>63345.24005</td>\n",
       "      <td>7.188236</td>\n",
       "      <td>5.586729</td>\n",
       "    </tr>\n",
       "  </tbody>\n",
       "</table>\n",
       "</div>"
      ],
      "text/plain": [
       "                                                    Avg. Area Income  \\\n",
       "Address                                                                \n",
       "208 Michael Ferry Apt. 674\\nLaurabury, NE 37010...       79545.45857   \n",
       "188 Johnson Views Suite 079\\nLake Kathleen, CA ...       79248.64245   \n",
       "9127 Elizabeth Stravenue\\nDanieltown, WI 06482-...       61287.06718   \n",
       "USS Barnett\\nFPO AP 44820                                63345.24005   \n",
       "\n",
       "                                                    Avg. Area House Age  \\\n",
       "Address                                                                   \n",
       "208 Michael Ferry Apt. 674\\nLaurabury, NE 37010...             5.682861   \n",
       "188 Johnson Views Suite 079\\nLake Kathleen, CA ...             6.002900   \n",
       "9127 Elizabeth Stravenue\\nDanieltown, WI 06482-...             5.865890   \n",
       "USS Barnett\\nFPO AP 44820                                      7.188236   \n",
       "\n",
       "                                                    Avg. Area Number of Rooms  \n",
       "Address                                                                        \n",
       "208 Michael Ferry Apt. 674\\nLaurabury, NE 37010...                   7.009188  \n",
       "188 Johnson Views Suite 079\\nLake Kathleen, CA ...                   6.730821  \n",
       "9127 Elizabeth Stravenue\\nDanieltown, WI 06482-...                   8.512727  \n",
       "USS Barnett\\nFPO AP 44820                                            5.586729  "
      ]
     },
     "execution_count": 17,
     "metadata": {},
     "output_type": "execute_result"
    }
   ],
   "source": [
    "#We can retrieve the first four rows and the first three columns using a row number and column number. \n",
    "#This can be done using the iloc indexer in pandas, which retrieves data using index positions.\n",
    "df.iloc[0:4 , 0:3]"
   ]
  },
  {
   "cell_type": "code",
   "execution_count": 24,
   "metadata": {},
   "outputs": [
    {
     "data": {
      "text/html": [
       "<div>\n",
       "<style scoped>\n",
       "    .dataframe tbody tr th:only-of-type {\n",
       "        vertical-align: middle;\n",
       "    }\n",
       "\n",
       "    .dataframe tbody tr th {\n",
       "        vertical-align: top;\n",
       "    }\n",
       "\n",
       "    .dataframe thead th {\n",
       "        text-align: right;\n",
       "    }\n",
       "</style>\n",
       "<table border=\"1\" class=\"dataframe\">\n",
       "  <thead>\n",
       "    <tr style=\"text-align: right;\">\n",
       "      <th></th>\n",
       "      <th>Avg. Area Income</th>\n",
       "      <th>Avg. Area House Age</th>\n",
       "      <th>Avg. Area Number of Rooms</th>\n",
       "      <th>Avg. Area Number of Bedrooms</th>\n",
       "      <th>Area Population</th>\n",
       "    </tr>\n",
       "    <tr>\n",
       "      <th>Address</th>\n",
       "      <th></th>\n",
       "      <th></th>\n",
       "      <th></th>\n",
       "      <th></th>\n",
       "      <th></th>\n",
       "    </tr>\n",
       "  </thead>\n",
       "  <tbody>\n",
       "    <tr>\n",
       "      <th>208 Michael Ferry Apt. 674\\nLaurabury, NE 37010-5101</th>\n",
       "      <td>79545.45857</td>\n",
       "      <td>5.682861</td>\n",
       "      <td>7.009188</td>\n",
       "      <td>4.09</td>\n",
       "      <td>23086.80050</td>\n",
       "    </tr>\n",
       "    <tr>\n",
       "      <th>188 Johnson Views Suite 079\\nLake Kathleen, CA 48958</th>\n",
       "      <td>79248.64245</td>\n",
       "      <td>6.002900</td>\n",
       "      <td>6.730821</td>\n",
       "      <td>3.09</td>\n",
       "      <td>40173.07217</td>\n",
       "    </tr>\n",
       "    <tr>\n",
       "      <th>9127 Elizabeth Stravenue\\nDanieltown, WI 06482-3489</th>\n",
       "      <td>61287.06718</td>\n",
       "      <td>5.865890</td>\n",
       "      <td>8.512727</td>\n",
       "      <td>5.13</td>\n",
       "      <td>36882.15940</td>\n",
       "    </tr>\n",
       "    <tr>\n",
       "      <th>USS Barnett\\nFPO AP 44820</th>\n",
       "      <td>63345.24005</td>\n",
       "      <td>7.188236</td>\n",
       "      <td>5.586729</td>\n",
       "      <td>3.26</td>\n",
       "      <td>34310.24283</td>\n",
       "    </tr>\n",
       "    <tr>\n",
       "      <th>USNS Raymond\\nFPO AE 09386</th>\n",
       "      <td>59982.19723</td>\n",
       "      <td>5.040555</td>\n",
       "      <td>7.839388</td>\n",
       "      <td>4.23</td>\n",
       "      <td>26354.10947</td>\n",
       "    </tr>\n",
       "  </tbody>\n",
       "</table>\n",
       "</div>"
      ],
      "text/plain": [
       "                                                    Avg. Area Income  \\\n",
       "Address                                                                \n",
       "208 Michael Ferry Apt. 674\\nLaurabury, NE 37010...       79545.45857   \n",
       "188 Johnson Views Suite 079\\nLake Kathleen, CA ...       79248.64245   \n",
       "9127 Elizabeth Stravenue\\nDanieltown, WI 06482-...       61287.06718   \n",
       "USS Barnett\\nFPO AP 44820                                63345.24005   \n",
       "USNS Raymond\\nFPO AE 09386                               59982.19723   \n",
       "\n",
       "                                                    Avg. Area House Age  \\\n",
       "Address                                                                   \n",
       "208 Michael Ferry Apt. 674\\nLaurabury, NE 37010...             5.682861   \n",
       "188 Johnson Views Suite 079\\nLake Kathleen, CA ...             6.002900   \n",
       "9127 Elizabeth Stravenue\\nDanieltown, WI 06482-...             5.865890   \n",
       "USS Barnett\\nFPO AP 44820                                      7.188236   \n",
       "USNS Raymond\\nFPO AE 09386                                     5.040555   \n",
       "\n",
       "                                                    Avg. Area Number of Rooms  \\\n",
       "Address                                                                         \n",
       "208 Michael Ferry Apt. 674\\nLaurabury, NE 37010...                   7.009188   \n",
       "188 Johnson Views Suite 079\\nLake Kathleen, CA ...                   6.730821   \n",
       "9127 Elizabeth Stravenue\\nDanieltown, WI 06482-...                   8.512727   \n",
       "USS Barnett\\nFPO AP 44820                                            5.586729   \n",
       "USNS Raymond\\nFPO AE 09386                                           7.839388   \n",
       "\n",
       "                                                    Avg. Area Number of Bedrooms  \\\n",
       "Address                                                                            \n",
       "208 Michael Ferry Apt. 674\\nLaurabury, NE 37010...                          4.09   \n",
       "188 Johnson Views Suite 079\\nLake Kathleen, CA ...                          3.09   \n",
       "9127 Elizabeth Stravenue\\nDanieltown, WI 06482-...                          5.13   \n",
       "USS Barnett\\nFPO AP 44820                                                   3.26   \n",
       "USNS Raymond\\nFPO AE 09386                                                  4.23   \n",
       "\n",
       "                                                    Area Population  \n",
       "Address                                                              \n",
       "208 Michael Ferry Apt. 674\\nLaurabury, NE 37010...      23086.80050  \n",
       "188 Johnson Views Suite 079\\nLake Kathleen, CA ...      40173.07217  \n",
       "9127 Elizabeth Stravenue\\nDanieltown, WI 06482-...      36882.15940  \n",
       "USS Barnett\\nFPO AP 44820                               34310.24283  \n",
       "USNS Raymond\\nFPO AE 09386                              26354.10947  "
      ]
     },
     "execution_count": 24,
     "metadata": {},
     "output_type": "execute_result"
    }
   ],
   "source": [
    "# Dropping a column\n",
    "X = df.drop('Price', axis=1)\n",
    "# The default number of instances that will be taken for the head is five, so if you don't specify the number \n",
    "# then it will by default output five observations.\n",
    "X.head()"
   ]
  },
  {
   "cell_type": "code",
   "execution_count": 25,
   "metadata": {},
   "outputs": [
    {
     "data": {
      "text/plain": [
       "(5000, 5)"
      ]
     },
     "execution_count": 25,
     "metadata": {},
     "output_type": "execute_result"
    }
   ],
   "source": [
    "# Print the shape of your newly created feature matrix using the X.shape command.\n",
    "X.shape"
   ]
  },
  {
   "cell_type": "code",
   "execution_count": 27,
   "metadata": {
    "scrolled": true
   },
   "outputs": [
    {
     "data": {
      "text/plain": [
       "Address\n",
       "208 Michael Ferry Apt. 674\\nLaurabury, NE 37010-5101    1.059034e+06\n",
       "188 Johnson Views Suite 079\\nLake Kathleen, CA 48958    1.505891e+06\n",
       "9127 Elizabeth Stravenue\\nDanieltown, WI 06482-3489     1.058988e+06\n",
       "USS Barnett\\nFPO AP 44820                               1.260617e+06\n",
       "USNS Raymond\\nFPO AE 09386                              6.309435e+05\n",
       "06039 Jennifer Islands Apt. 443\\nTracyport, KS 16077    1.068138e+06\n",
       "4759 Daniel Shoals Suite 442\\nNguyenburgh, CO 20247     1.502056e+06\n",
       "972 Joyce Viaduct\\nLake William, TN 17778-6483          1.573937e+06\n",
       "USS Gilbert\\nFPO AA 20957                               7.988695e+05\n",
       "Unit 9446 Box 0958\\nDPO AE 97025                        1.545155e+06\n",
       "Name: Price, dtype: float64"
      ]
     },
     "execution_count": 27,
     "metadata": {},
     "output_type": "execute_result"
    }
   ],
   "source": [
    "# we will create a variable called y that will store the target values. We will\n",
    "# use indexing to grab the target column. Indexing allows you to access a section of\n",
    "# a larger element. In this case, we want to grab the column named Price from the\n",
    "# df DataFrame. Then, we want to print out the top 10 values of the variable.\n",
    "y = df['Price']\n",
    "y.head(10)"
   ]
  },
  {
   "cell_type": "code",
   "execution_count": 29,
   "metadata": {},
   "outputs": [
    {
     "data": {
      "text/plain": [
       "(5000,)"
      ]
     },
     "execution_count": 29,
     "metadata": {},
     "output_type": "execute_result"
    }
   ],
   "source": [
    "# The shape should be one-dimensional, with a length equal to the number of observations (5000) only.\n",
    "y.shape"
   ]
  }
 ],
 "metadata": {
  "kernelspec": {
   "display_name": "Python 3",
   "language": "python",
   "name": "python3"
  },
  "language_info": {
   "codemirror_mode": {
    "name": "ipython",
    "version": 3
   },
   "file_extension": ".py",
   "mimetype": "text/x-python",
   "name": "python",
   "nbconvert_exporter": "python",
   "pygments_lexer": "ipython3",
   "version": "3.7.3"
  }
 },
 "nbformat": 4,
 "nbformat_minor": 2
}
