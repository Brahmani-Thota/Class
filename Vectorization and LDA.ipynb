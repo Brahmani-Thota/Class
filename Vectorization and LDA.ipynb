{
 "cells": [
  {
   "cell_type": "code",
   "execution_count": 2,
   "metadata": {},
   "outputs": [
    {
     "name": "stdout",
     "output_type": "stream",
     "text": [
      "{'four': 48, 'score': 104, 'and': 6, 'seven': 106, 'years': 136, 'ago': 3, 'our': 89, 'fathers': 40, 'brought': 15, 'forth': 46, 'on': 87, 'this': 119, 'continent': 25, 'new': 80, 'nation': 78, 'conceived': 22, 'in': 62, 'liberty': 68, 'dedicated': 29, 'to': 122, 'the': 115, 'proposition': 97, 'that': 114, 'all': 4, 'men': 75, 'are': 8, 'created': 26, 'equal': 38, 'now': 85, 'we': 128, 'engaged': 37, 'great': 55, 'civil': 20, 'war': 127, 'testing': 113, 'whether': 130, 'or': 88, 'any': 7, 'so': 109, 'can': 18, 'long': 73, 'endure': 36, 'met': 76, 'battle': 10, 'field': 41, 'of': 86, 'have': 58, 'come': 21, 'dedicate': 28, 'portion': 94, 'as': 9, 'final': 42, 'resting': 102, 'place': 92, 'for': 44, 'those': 120, 'who': 132, 'here': 59, 'gave': 52, 'their': 116, 'lives': 71, 'might': 77, 'live': 70, 'it': 65, 'is': 64, 'altogether': 5, 'fitting': 43, 'proper': 96, 'should': 108, 'do': 34, 'but': 16, 'larger': 66, 'sense': 105, 'not': 83, 'consecrate': 23, 'hallow': 57, 'ground': 56, 'brave': 14, 'living': 72, 'dead': 27, 'struggled': 110, 'consecrated': 24, 'far': 39, 'above': 0, 'poor': 93, 'power': 95, 'add': 1, 'detract': 30, 'world': 135, 'will': 133, 'little': 69, 'note': 84, 'nor': 82, 'remember': 100, 'what': 129, 'say': 103, 'never': 79, 'forget': 45, 'they': 118, 'did': 32, 'us': 125, 'rather': 98, 'be': 11, 'unfinished': 124, 'work': 134, 'which': 131, 'fought': 47, 'thus': 121, 'nobly': 81, 'advanced': 2, 'task': 112, 'remaining': 99, 'before': 12, 'from': 50, 'these': 117, 'honored': 61, 'take': 111, 'increased': 63, 'devotion': 31, 'cause': 19, 'last': 67, 'full': 51, 'measure': 74, 'highly': 60, 'resolve': 101, 'shall': 107, 'died': 33, 'vain': 126, 'under': 123, 'god': 53, 'birth': 13, 'freedom': 49, 'government': 54, 'people': 90, 'by': 17, 'perish': 91, 'earth': 35}\n",
      "(1, 137)\n",
      "<class 'scipy.sparse.csr.csr_matrix'>\n",
      "[[ 1  1  1  1  1  1  6  1  3  1  1  2  1  1  1  1  2  1  5  1  1  1  2  1\n",
      "   1  1  1  3  2  4  1  2  1  1  1  1  1  1  1  2  1  2  1  1  5  1  1  1\n",
      "   1  1  2  1  2  1  1  3  1  1  5  8  1  1  4  1  3  5  1  1  1  1  1  1\n",
      "   2  2  1  2  1  1  5  1  2  1  1  5  1  1  5  2  2  2  3  1  1  1  1  1\n",
      "   1  1  2  1  1  1  1  1  1  1  1  3  1  3  1  1  1  1 13 11  1  2  3  4\n",
      "   1  1  8  1  1  3  1  2 10  2  1  2  3  1  1  1  1]]\n"
     ]
    }
   ],
   "source": [
    "from sklearn.feature_extraction.text import CountVectorizer\n",
    "# list of text documents\n",
    "text = [\"Four score and seven years ago our fathers brought forth on this continent, a new nation, conceived in Liberty, and dedicated to the proposition that all men are created equal. Now we are engaged in a great civil war, testing whether that nation, or any nation so conceived and so dedicated, can long endure. We are met on a great battle-field of that war. We have come to dedicate a portion of that field, as a final resting place for those who here gave their lives that that nation might live. It is altogether fitting and proper that we should do this. But, in a larger sense, we can not dedicate -- we can not consecrate -- we can not hallow -- this ground. The brave men, living and dead, who struggled here, have consecrated it, far above our poor power to add or detract. The world will little note, nor long remember what we say here, but it can never forget what they did here. It is for us the living, rather, to be dedicated here to the unfinished work which they who fought here have thus far so nobly advanced. It is rather for us to be here dedicated to the great task remaining before us -- that from these honored dead we take increased devotion to that cause for which they gave the last full measure of devotion -- that we here highly resolve that these dead shall not have died in vain -- that this nation, under God, shall have a new birth of freedom -- and that government of the people, by the people, for the people, shall not perish from the earth.\"]\n",
    "# create the transform\n",
    "vectorizer = CountVectorizer()\n",
    "# tokenize and build vocab\n",
    "vectorizer.fit(text)\n",
    "# summarize\n",
    "print(vectorizer.vocabulary_)\n",
    "# encode document\n",
    "vector = vectorizer.transform(text)\n",
    "# summarize encoded vector\n",
    "print(vector.shape)\n",
    "print(type(vector))\n",
    "print(vector.toarray())"
   ]
  },
  {
   "cell_type": "code",
   "execution_count": 3,
   "metadata": {},
   "outputs": [
    {
     "name": "stdout",
     "output_type": "stream",
     "text": [
      "{'four': 48, 'score': 104, 'and': 6, 'seven': 106, 'years': 136, 'ago': 3, 'our': 89, 'fathers': 40, 'brought': 15, 'forth': 46, 'on': 87, 'this': 119, 'continent': 25, 'new': 80, 'nation': 78, 'conceived': 22, 'in': 62, 'liberty': 68, 'dedicated': 29, 'to': 122, 'the': 115, 'proposition': 97, 'that': 114, 'all': 4, 'men': 75, 'are': 8, 'created': 26, 'equal': 38, 'now': 85, 'we': 128, 'engaged': 37, 'great': 55, 'civil': 20, 'war': 127, 'testing': 113, 'whether': 130, 'or': 88, 'any': 7, 'so': 109, 'can': 18, 'long': 73, 'endure': 36, 'met': 76, 'battle': 10, 'field': 41, 'of': 86, 'have': 58, 'come': 21, 'dedicate': 28, 'portion': 94, 'as': 9, 'final': 42, 'resting': 102, 'place': 92, 'for': 44, 'those': 120, 'who': 132, 'here': 59, 'gave': 52, 'their': 116, 'lives': 71, 'might': 77, 'live': 70, 'it': 65, 'is': 64, 'altogether': 5, 'fitting': 43, 'proper': 96, 'should': 108, 'do': 34, 'but': 16, 'larger': 66, 'sense': 105, 'not': 83, 'consecrate': 23, 'hallow': 57, 'ground': 56, 'brave': 14, 'living': 72, 'dead': 27, 'struggled': 110, 'consecrated': 24, 'far': 39, 'above': 0, 'poor': 93, 'power': 95, 'add': 1, 'detract': 30, 'world': 135, 'will': 133, 'little': 69, 'note': 84, 'nor': 82, 'remember': 100, 'what': 129, 'say': 103, 'never': 79, 'forget': 45, 'they': 118, 'did': 32, 'us': 125, 'rather': 98, 'be': 11, 'unfinished': 124, 'work': 134, 'which': 131, 'fought': 47, 'thus': 121, 'nobly': 81, 'advanced': 2, 'task': 112, 'remaining': 99, 'before': 12, 'from': 50, 'these': 117, 'honored': 61, 'take': 111, 'increased': 63, 'devotion': 31, 'cause': 19, 'last': 67, 'full': 51, 'measure': 74, 'highly': 60, 'resolve': 101, 'shall': 107, 'died': 33, 'vain': 126, 'under': 123, 'god': 53, 'birth': 13, 'freedom': 49, 'government': 54, 'people': 90, 'by': 17, 'perish': 91, 'earth': 35}\n"
     ]
    }
   ],
   "source": [
    "print(vectorizer.vocabulary_)"
   ]
  },
  {
   "cell_type": "code",
   "execution_count": 4,
   "metadata": {},
   "outputs": [
    {
     "name": "stdout",
     "output_type": "stream",
     "text": [
      "{'four': 48, 'score': 104, 'and': 6, 'seven': 106, 'years': 136, 'ago': 3, 'our': 89, 'fathers': 40, 'brought': 15, 'forth': 46, 'on': 87, 'this': 119, 'continent': 25, 'new': 80, 'nation': 78, 'conceived': 22, 'in': 62, 'liberty': 68, 'dedicated': 29, 'to': 122, 'the': 115, 'proposition': 97, 'that': 114, 'all': 4, 'men': 75, 'are': 8, 'created': 26, 'equal': 38, 'now': 85, 'we': 128, 'engaged': 37, 'great': 55, 'civil': 20, 'war': 127, 'testing': 113, 'whether': 130, 'or': 88, 'any': 7, 'so': 109, 'can': 18, 'long': 73, 'endure': 36, 'met': 76, 'battle': 10, 'field': 41, 'of': 86, 'have': 58, 'come': 21, 'dedicate': 28, 'portion': 94, 'as': 9, 'final': 42, 'resting': 102, 'place': 92, 'for': 44, 'those': 120, 'who': 132, 'here': 59, 'gave': 52, 'their': 116, 'lives': 71, 'might': 77, 'live': 70, 'it': 65, 'is': 64, 'altogether': 5, 'fitting': 43, 'proper': 96, 'should': 108, 'do': 34, 'but': 16, 'larger': 66, 'sense': 105, 'not': 83, 'consecrate': 23, 'hallow': 57, 'ground': 56, 'brave': 14, 'living': 72, 'dead': 27, 'struggled': 110, 'consecrated': 24, 'far': 39, 'above': 0, 'poor': 93, 'power': 95, 'add': 1, 'detract': 30, 'world': 135, 'will': 133, 'little': 69, 'note': 84, 'nor': 82, 'remember': 100, 'what': 129, 'say': 103, 'never': 79, 'forget': 45, 'they': 118, 'did': 32, 'us': 125, 'rather': 98, 'be': 11, 'unfinished': 124, 'work': 134, 'which': 131, 'fought': 47, 'thus': 121, 'nobly': 81, 'advanced': 2, 'task': 112, 'remaining': 99, 'before': 12, 'from': 50, 'these': 117, 'honored': 61, 'take': 111, 'increased': 63, 'devotion': 31, 'cause': 19, 'last': 67, 'full': 51, 'measure': 74, 'highly': 60, 'resolve': 101, 'shall': 107, 'died': 33, 'vain': 126, 'under': 123, 'god': 53, 'birth': 13, 'freedom': 49, 'government': 54, 'people': 90, 'by': 17, 'perish': 91, 'earth': 35}\n",
      "[1. 1. 1. 1. 1. 1. 1. 1. 1. 1. 1. 1. 1. 1. 1. 1. 1. 1. 1. 1. 1. 1. 1. 1.\n",
      " 1. 1. 1. 1. 1. 1. 1. 1. 1. 1. 1. 1. 1. 1. 1. 1. 1. 1. 1. 1. 1. 1. 1. 1.\n",
      " 1. 1. 1. 1. 1. 1. 1. 1. 1. 1. 1. 1. 1. 1. 1. 1. 1. 1. 1. 1. 1. 1. 1. 1.\n",
      " 1. 1. 1. 1. 1. 1. 1. 1. 1. 1. 1. 1. 1. 1. 1. 1. 1. 1. 1. 1. 1. 1. 1. 1.\n",
      " 1. 1. 1. 1. 1. 1. 1. 1. 1. 1. 1. 1. 1. 1. 1. 1. 1. 1. 1. 1. 1. 1. 1. 1.\n",
      " 1. 1. 1. 1. 1. 1. 1. 1. 1. 1. 1. 1. 1. 1. 1. 1. 1.]\n",
      "(1, 137)\n",
      "[[0.03099379 0.03099379 0.03099379 0.03099379 0.03099379 0.03099379\n",
      "  0.18596272 0.03099379 0.09298136 0.03099379 0.03099379 0.06198757\n",
      "  0.03099379 0.03099379 0.03099379 0.03099379 0.06198757 0.03099379\n",
      "  0.15496893 0.03099379 0.03099379 0.03099379 0.06198757 0.03099379\n",
      "  0.03099379 0.03099379 0.03099379 0.09298136 0.06198757 0.12397515\n",
      "  0.03099379 0.06198757 0.03099379 0.03099379 0.03099379 0.03099379\n",
      "  0.03099379 0.03099379 0.03099379 0.06198757 0.03099379 0.06198757\n",
      "  0.03099379 0.03099379 0.15496893 0.03099379 0.03099379 0.03099379\n",
      "  0.03099379 0.03099379 0.06198757 0.03099379 0.06198757 0.03099379\n",
      "  0.03099379 0.09298136 0.03099379 0.03099379 0.15496893 0.24795029\n",
      "  0.03099379 0.03099379 0.12397515 0.03099379 0.09298136 0.15496893\n",
      "  0.03099379 0.03099379 0.03099379 0.03099379 0.03099379 0.03099379\n",
      "  0.06198757 0.06198757 0.03099379 0.06198757 0.03099379 0.03099379\n",
      "  0.15496893 0.03099379 0.06198757 0.03099379 0.03099379 0.15496893\n",
      "  0.03099379 0.03099379 0.15496893 0.06198757 0.06198757 0.06198757\n",
      "  0.09298136 0.03099379 0.03099379 0.03099379 0.03099379 0.03099379\n",
      "  0.03099379 0.03099379 0.06198757 0.03099379 0.03099379 0.03099379\n",
      "  0.03099379 0.03099379 0.03099379 0.03099379 0.03099379 0.09298136\n",
      "  0.03099379 0.09298136 0.03099379 0.03099379 0.03099379 0.03099379\n",
      "  0.40291922 0.34093165 0.03099379 0.06198757 0.09298136 0.12397515\n",
      "  0.03099379 0.03099379 0.24795029 0.03099379 0.03099379 0.09298136\n",
      "  0.03099379 0.06198757 0.30993786 0.06198757 0.03099379 0.06198757\n",
      "  0.09298136 0.03099379 0.03099379 0.03099379 0.03099379]]\n"
     ]
    }
   ],
   "source": [
    "from sklearn.feature_extraction.text import TfidfVectorizer\n",
    "# list of text documents\n",
    "text = [\"Four score and seven years ago our fathers brought forth on this continent, a new nation, conceived in Liberty, and dedicated to the proposition that all men are created equal. Now we are engaged in a great civil war, testing whether that nation, or any nation so conceived and so dedicated, can long endure. We are met on a great battle-field of that war. We have come to dedicate a portion of that field, as a final resting place for those who here gave their lives that that nation might live. It is altogether fitting and proper that we should do this. But, in a larger sense, we can not dedicate -- we can not consecrate -- we can not hallow -- this ground. The brave men, living and dead, who struggled here, have consecrated it, far above our poor power to add or detract. The world will little note, nor long remember what we say here, but it can never forget what they did here. It is for us the living, rather, to be dedicated here to the unfinished work which they who fought here have thus far so nobly advanced. It is rather for us to be here dedicated to the great task remaining before us -- that from these honored dead we take increased devotion to that cause for which they gave the last full measure of devotion -- that we here highly resolve that these dead shall not have died in vain -- that this nation, under God, shall have a new birth of freedom -- and that government of the people, by the people, for the people, shall not perish from the earth.\"]\n",
    "# create the transform\n",
    "vectorizer = TfidfVectorizer()\n",
    "# tokenize and build vocab\n",
    "vectorizer.fit(text)\n",
    "# summarize\n",
    "print(vectorizer.vocabulary_)\n",
    "print(vectorizer.idf_)\n",
    "# encode document\n",
    "vector = vectorizer.transform([text[0]])\n",
    "# summarize encoded vector\n",
    "print(vector.shape)\n",
    "print(vector.toarray())"
   ]
  },
  {
   "cell_type": "code",
   "execution_count": 5,
   "metadata": {},
   "outputs": [
    {
     "name": "stdout",
     "output_type": "stream",
     "text": [
      "[(0, '0.010*\"sense\" + 0.010*\"remaining\" + 0.010*\"perish\" + 0.010*\"note\" + 0.010*\"life\" + 0.010*\"created\" + 0.010*\"power\" + 0.010*\"detract\" + 0.010*\"take\" + 0.010*\"unfinished\" + 0.010*\"whether\" + 0.010*\"score\" + 0.010*\"increased\" + 0.010*\"year\" + 0.010*\"place\" + 0.010*\"met\" + 0.010*\"father\" + 0.010*\"seven\" + 0.010*\"fitting\" + 0.010*\"four\"'), (1, '0.010*\"earth\" + 0.010*\"honored\" + 0.010*\"thus\" + 0.010*\"father\" + 0.010*\"portion\" + 0.010*\"vain\" + 0.010*\"consecrate\" + 0.010*\"liberty\" + 0.010*\"measure\" + 0.010*\"resolve\" + 0.010*\"it\" + 0.010*\"life\" + 0.010*\"full\" + 0.010*\"score\" + 0.010*\"work\" + 0.010*\"but\" + 0.010*\"poor\" + 0.010*\"sense\" + 0.010*\"equal\" + 0.010*\"highly\"'), (2, '0.033*\"nation\" + 0.027*\"dedicated\" + 0.021*\"u\" + 0.021*\"shall\" + 0.021*\"dead\" + 0.021*\"people\" + 0.021*\"here\" + 0.021*\"great\" + 0.015*\"war\" + 0.015*\"gave\" + 0.015*\"dedicate\" + 0.015*\"rather\" + 0.015*\"far\" + 0.015*\"living\" + 0.015*\"long\" + 0.015*\"conceived\" + 0.015*\"men\" + 0.015*\"new\" + 0.015*\"devotion\" + 0.008*\"altogether\"')]\n"
     ]
    }
   ],
   "source": [
    "doc1 = \"\"\" Four score and seven years ago our fathers brought forth on this continent, a new nation, conceived in Liberty, and dedicated to the proposition that all men are created equal. Now we are engaged in a great civil war, testing whether that nation, or any nation so conceived and so dedicated, can long endure. We are met on a great battle-field of that war. We have come to dedicate a portion of that field, as a final resting place for those who here gave their lives that that nation might live. It is altogether fitting and proper that we should do this. But, in a larger sense, we can not dedicate -- we can not consecrate -- we can not hallow -- this ground. The brave men, living and dead, who struggled here, have consecrated it, far above our poor power to add or detract. The world will little note, nor long remember what we say here, but it can never forget what they did here. It is for us the living, rather, to be dedicated here to the unfinished work which they who fought here have thus far so nobly advanced. It is rather for us to be here dedicated to the great task remaining before us -- that from these honored dead we take increased devotion to that cause for which they gave the last full measure of devotion -- that we here highly resolve that these dead shall not have died in vain -- that this nation, under God, shall have a new birth of freedom -- and that government of the people, by the people, for the people, shall not perish from the earth. \"\"\"\n",
    "\n",
    "doc_complete = [doc1]\n",
    "\n",
    "from nltk.corpus import stopwords \n",
    "from nltk.stem.wordnet import WordNetLemmatizer\n",
    "import string\n",
    "stop = set(stopwords.words('english'))\n",
    "exclude = set(string.punctuation) \n",
    "lemma = WordNetLemmatizer()\n",
    "def clean(doc):\n",
    "    stop_free = \" \".join([i for i in doc.lower().split() if i not in stop])\n",
    "    punc_free = ''.join(ch for ch in stop_free if ch not in exclude)\n",
    "    normalized = \" \".join(lemma.lemmatize(word) for word in punc_free.split())\n",
    "    return normalized\n",
    "doc_clean = [clean(doc).split() for doc in doc_complete]\n",
    "\n",
    "# Importing Gensim\n",
    "import gensim\n",
    "from gensim import corpora\n",
    "\n",
    "# Creating the term dictionary of our corpus, where every unique term is assigned an index. \n",
    "dictionary = corpora.Dictionary(doc_clean)\n",
    "# Converting list of documents (corpus) into Document Term Matrix using dictionary prepared above.\n",
    "doc_term_matrix = [dictionary.doc2bow(doc) for doc in doc_clean]\n",
    "\n",
    "# Creating the object for LDA model using gensim library\n",
    "Lda = gensim.models.ldamodel.LdaModel\n",
    "\n",
    "# Running and Training LDA model on the document term matrix.\n",
    "ldamodel = Lda(doc_term_matrix, num_topics=3, id2word = dictionary, passes=50)\n",
    "\n",
    "print(ldamodel.print_topics(num_topics=3, num_words=20))\n"
   ]
  },
  {
   "cell_type": "code",
   "execution_count": null,
   "metadata": {},
   "outputs": [],
   "source": []
  }
 ],
 "metadata": {
  "kernelspec": {
   "display_name": "Python 3",
   "language": "python",
   "name": "python3"
  },
  "language_info": {
   "codemirror_mode": {
    "name": "ipython",
    "version": 3
   },
   "file_extension": ".py",
   "mimetype": "text/x-python",
   "name": "python",
   "nbconvert_exporter": "python",
   "pygments_lexer": "ipython3",
   "version": "3.7.3"
  }
 },
 "nbformat": 4,
 "nbformat_minor": 2
}
