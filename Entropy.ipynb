{
 "cells": [
  {
   "cell_type": "code",
   "execution_count": 1,
   "metadata": {},
   "outputs": [],
   "source": [
    "import math\n",
    "from collections import Counter\n",
    "from os import path\n",
    "\n",
    "d = path.dirname(\"D:/sentiment analysis/JFK/jfk_post_73b.txt\")\n",
    "# Read the whole text.\n",
    "text = open(path.join(d, 'D:/sentiment analysis/JFK/jfk_post_73b.txt')).read()\n",
    "\n",
    "def eta(text, unit='natural'):\n",
    "    base = {\n",
    "        'shannon' : 2.,\n",
    "        'natural' : math.exp(1),\n",
    "        'hartley' : 10.\n",
    "    }\n",
    "\n",
    "    if len(text) <= 1:\n",
    "        return 0\n",
    "\n",
    "    counts = Counter()\n",
    "\n",
    "    for d in text:\n",
    "        counts[d] += 1\n",
    "\n",
    "    ent = 0\n",
    "\n",
    "    probs = [float(c) / len(text) for c in counts.values()]\n",
    "    for p in probs:\n",
    "        if p > 0.:\n",
    "            ent -= p * math.log(p, base[unit])\n",
    "\n",
    "    return ent"
   ]
  },
  {
   "cell_type": "code",
   "execution_count": 34,
   "metadata": {},
   "outputs": [
    {
     "name": "stdout",
     "output_type": "stream",
     "text": [
      "Entropy: 3.1406842451345542\n"
     ]
    }
   ],
   "source": [
    "print('Entropy:', eta(text))"
   ]
  },
  {
   "cell_type": "code",
   "execution_count": 37,
   "metadata": {},
   "outputs": [],
   "source": [
    "import math\n",
    "from collections import Counter\n",
    "from os import path\n",
    "\n",
    "d = path.dirname(\"D:/sentiment analysis/JFK/JFK_Pre.txt\")\n",
    "# Read the whole text.\n",
    "text1 = open(path.join(d, 'D:/sentiment analysis/JFK/JFK_Pre.txt')).read()\n",
    "\n",
    "def eta(text1, unit='natural'):\n",
    "    base = {\n",
    "        'shannon' : 2.,\n",
    "        'natural' : math.exp(1),\n",
    "        'hartley' : 10.\n",
    "    }\n",
    "\n",
    "    if len(text1) <= 1:\n",
    "        return 0\n",
    "\n",
    "    counts = Counter()\n",
    "\n",
    "    for d in text1:\n",
    "        counts[d] += 1\n",
    "\n",
    "    ent = 0\n",
    "\n",
    "    probs = [float(c) / len(text) for c in counts.values()]\n",
    "    for p in probs:\n",
    "        if p > 0.:\n",
    "            ent -= p * math.log(p, base[unit])\n",
    "\n",
    "    return ent"
   ]
  },
  {
   "cell_type": "code",
   "execution_count": 38,
   "metadata": {},
   "outputs": [
    {
     "name": "stdout",
     "output_type": "stream",
     "text": [
      "Entropy: 1.0803742708633803\n"
     ]
    }
   ],
   "source": [
    "print('Entropy:', eta(text1))"
   ]
  },
  {
   "cell_type": "code",
   "execution_count": 42,
   "metadata": {},
   "outputs": [
    {
     "name": "stdout",
     "output_type": "stream",
     "text": [
      "Entropy Index:  4.567191411625483\n"
     ]
    }
   ],
   "source": [
    "import math\n",
    "from os import path\n",
    "\n",
    "d = path.dirname(\"D:/sentiment analysis/JFK/JFK_Pre.txt\")\n",
    "# Read the whole text.\n",
    "text1 = open(path.join(d, 'D:/sentiment analysis/JFK/JFK_Pre.txt')).read()\n",
    "\n",
    "def Entropy(text1,base = 2.0):\n",
    "    #make set with all unrepeatable symbols from string\n",
    "    dct = dict.fromkeys(list(text1))\n",
    "\n",
    "    #calculate frequencies\n",
    "    pkvec =  [float(text1.count(c)) / len(text1) for c in dct]\n",
    "\n",
    "    #calculate Entropy\n",
    "    H = -sum([pk  * math.log(pk) / math.log(base) for pk in pkvec ])\n",
    "    return H\n",
    "\n",
    "\n",
    "print('Entropy Index: ', Entropy(text1))"
   ]
  },
  {
   "cell_type": "code",
   "execution_count": 43,
   "metadata": {},
   "outputs": [
    {
     "name": "stdout",
     "output_type": "stream",
     "text": [
      "Entropy Index:  4.531049585453713\n"
     ]
    }
   ],
   "source": [
    "import math\n",
    "from os import path\n",
    "\n",
    "d = path.dirname(\"D:/sentiment analysis/JFK/jfk_post_73b.txt\")\n",
    "# Read the whole text.\n",
    "text = open(path.join(d, 'D:/sentiment analysis/JFK/jfk_post_73b.txt')).read()\n",
    "\n",
    "def Entropy(text,base = 2.0):\n",
    "    #make set with all unrepeatable symbols from string\n",
    "    dct = dict.fromkeys(list(text))\n",
    "\n",
    "    #calculate frequencies\n",
    "    pkvec =  [float(text.count(c)) / len(text) for c in dct]\n",
    "\n",
    "    #calculate Entropy\n",
    "    H = -sum([pk  * math.log(pk) / math.log(base) for pk in pkvec ])\n",
    "    return H\n",
    "\n",
    "\n",
    "print('Entropy Index: ', Entropy(text))"
   ]
  },
  {
   "cell_type": "code",
   "execution_count": null,
   "metadata": {},
   "outputs": [],
   "source": []
  }
 ],
 "metadata": {
  "kernelspec": {
   "display_name": "Python 3",
   "language": "python",
   "name": "python3"
  },
  "language_info": {
   "codemirror_mode": {
    "name": "ipython",
    "version": 3
   },
   "file_extension": ".py",
   "mimetype": "text/x-python",
   "name": "python",
   "nbconvert_exporter": "python",
   "pygments_lexer": "ipython3",
   "version": "3.7.3"
  }
 },
 "nbformat": 4,
 "nbformat_minor": 2
}
