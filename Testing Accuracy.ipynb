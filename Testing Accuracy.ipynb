{
 "cells": [
  {
   "cell_type": "code",
   "execution_count": 30,
   "metadata": {},
   "outputs": [],
   "source": [
    "import numpy as np\n",
    "import pandas as pd\n",
    "import seaborn as sns\n",
    "import matplotlib.pyplot as plt\n",
    "%matplotlib inline\n",
    "\n",
    "dataset = pd.read_csv('d:/sentiment analysis/DEN/DEN_A.csv')\n",
    "\n",
    "# CountVectorizer\n",
    "from sklearn.feature_extraction.text import CountVectorizer\n",
    "cv = CountVectorizer(binary=True)\n",
    "cv.fit(dataset['text'])\n",
    "X = cv.transform(dataset['text'])\n"
   ]
  },
  {
   "cell_type": "code",
   "execution_count": 34,
   "metadata": {},
   "outputs": [],
   "source": [
    "from sklearn.model_selection import train_test_split\n",
    "X_train, X_test, y_train, y_test = train_test_split(X, y, test_size=0.3)\n"
   ]
  },
  {
   "cell_type": "code",
   "execution_count": 37,
   "metadata": {},
   "outputs": [
    {
     "name": "stdout",
     "output_type": "stream",
     "text": [
      "_________________________________________________________________\n",
      "Layer (type)                 Output Shape              Param #   \n",
      "=================================================================\n",
      "dense_17 (Dense)             (None, 10)                6090      \n",
      "_________________________________________________________________\n",
      "dense_18 (Dense)             (None, 1)                 11        \n",
      "=================================================================\n",
      "Total params: 6,101\n",
      "Trainable params: 6,101\n",
      "Non-trainable params: 0\n",
      "_________________________________________________________________\n"
     ]
    }
   ],
   "source": [
    "# Using Keras\n",
    "from keras.models import Sequential\n",
    "from keras import layers\n",
    "\n",
    "input_dim = X_train.shape[1]  # Number of features\n",
    "\n",
    "model = Sequential()\n",
    "model.add(layers.Dense(10, input_dim=input_dim, activation='relu'))\n",
    "model.add(layers.Dense(1, activation='sigmoid'))\n",
    "model.compile(loss='binary_crossentropy', optimizer='adam', metrics=['accuracy'])\n",
    "model.summary()\n"
   ]
  },
  {
   "cell_type": "code",
   "execution_count": 38,
   "metadata": {},
   "outputs": [
    {
     "name": "stdout",
     "output_type": "stream",
     "text": [
      "Training Accuracy: 0.4571\n"
     ]
    }
   ],
   "source": [
    "# Accuracy\n",
    "loss, accuracy = model.evaluate(X_train, y_train, verbose=False)\n",
    "print(\"Training Accuracy: {:.4f}\".format(accuracy))\n",
    "\n"
   ]
  },
  {
   "cell_type": "code",
   "execution_count": 39,
   "metadata": {},
   "outputs": [
    {
     "name": "stdout",
     "output_type": "stream",
     "text": [
      "Testing Accuracy:  0.4000\n"
     ]
    }
   ],
   "source": [
    "loss, accuracy = model.evaluate(X_test, y_test, verbose=False)\n",
    "print(\"Testing Accuracy:  {:.4f}\".format(accuracy))\n"
   ]
  },
  {
   "cell_type": "code",
   "execution_count": 25,
   "metadata": {},
   "outputs": [
    {
     "name": "stdout",
     "output_type": "stream",
     "text": [
      "_________________________________________________________________\n",
      "Layer (type)                 Output Shape              Param #   \n",
      "=================================================================\n",
      "dense_9 (Dense)              (None, 10)                6090      \n",
      "_________________________________________________________________\n",
      "dense_10 (Dense)             (None, 1)                 11        \n",
      "=================================================================\n",
      "Total params: 6,101\n",
      "Trainable params: 6,101\n",
      "Non-trainable params: 0\n",
      "_________________________________________________________________\n"
     ]
    }
   ],
   "source": [
    "# Using Keras\n",
    "from keras.models import Sequential\n",
    "from keras import layers\n",
    "\n",
    "input_dim = X_train.shape[1]  # Number of features\n",
    "\n",
    "model = Sequential()\n",
    "model.add(layers.Dense(10, input_dim=input_dim, activation='relu'))\n",
    "model.add(layers.Dense(1, activation='sigmoid'))\n",
    "model.compile(loss='binary_crossentropy', optimizer='adam', metrics=['accuracy'])\n",
    "model.summary()"
   ]
  },
  {
   "cell_type": "code",
   "execution_count": 40,
   "metadata": {},
   "outputs": [
    {
     "name": "stdout",
     "output_type": "stream",
     "text": [
      "Training Accuracy: 0.4571\n"
     ]
    }
   ],
   "source": [
    "# Accuracy\n",
    "loss, accuracy = model.evaluate(X_train, y_train, verbose=False)\n",
    "print(\"Training Accuracy: {:.4f}\".format(accuracy))\n",
    "\n"
   ]
  },
  {
   "cell_type": "code",
   "execution_count": 41,
   "metadata": {},
   "outputs": [
    {
     "name": "stdout",
     "output_type": "stream",
     "text": [
      "Training Accuracy: 0.4000\n"
     ]
    }
   ],
   "source": [
    "# Accuracy\n",
    "loss, accuracy = model.evaluate(X_test, y_test, verbose=False)\n",
    "print(\"Training Accuracy: {:.4f}\".format(accuracy))\n"
   ]
  },
  {
   "cell_type": "code",
   "execution_count": 49,
   "metadata": {},
   "outputs": [
    {
     "name": "stdout",
     "output_type": "stream",
     "text": [
      "Train on 35 samples, validate on 15 samples\n",
      "Epoch 1/100\n",
      " - 0s - loss: -3.1883e+00 - acc: 0.8000 - val_loss: 1.2567 - val_acc: 0.6667\n",
      "Epoch 2/100\n",
      " - 0s - loss: -3.1883e+00 - acc: 0.8000 - val_loss: 1.2569 - val_acc: 0.6667\n",
      "Epoch 3/100\n",
      " - 0s - loss: -3.1883e+00 - acc: 0.8000 - val_loss: 1.2571 - val_acc: 0.6667\n",
      "Epoch 4/100\n",
      " - 0s - loss: -3.1883e+00 - acc: 0.8000 - val_loss: 1.2573 - val_acc: 0.6667\n",
      "Epoch 5/100\n",
      " - 0s - loss: -3.1883e+00 - acc: 0.8000 - val_loss: 1.2576 - val_acc: 0.6667\n",
      "Epoch 6/100\n",
      " - 0s - loss: -3.1883e+00 - acc: 0.8000 - val_loss: 1.2578 - val_acc: 0.6667\n",
      "Epoch 7/100\n",
      " - 0s - loss: -3.1883e+00 - acc: 0.8000 - val_loss: 1.2580 - val_acc: 0.6667\n",
      "Epoch 8/100\n",
      " - 0s - loss: -3.1883e+00 - acc: 0.8000 - val_loss: 1.2582 - val_acc: 0.6667\n",
      "Epoch 9/100\n",
      " - 0s - loss: -3.1883e+00 - acc: 0.8000 - val_loss: 1.2584 - val_acc: 0.6667\n",
      "Epoch 10/100\n",
      " - 0s - loss: -3.1883e+00 - acc: 0.8000 - val_loss: 1.2586 - val_acc: 0.6667\n",
      "Epoch 11/100\n",
      " - 0s - loss: -3.1883e+00 - acc: 0.8000 - val_loss: 1.2588 - val_acc: 0.6667\n",
      "Epoch 12/100\n",
      " - 0s - loss: -3.1883e+00 - acc: 0.8000 - val_loss: 1.2590 - val_acc: 0.6667\n",
      "Epoch 13/100\n",
      " - 0s - loss: -3.1883e+00 - acc: 0.8000 - val_loss: 1.2592 - val_acc: 0.6667\n",
      "Epoch 14/100\n",
      " - 0s - loss: -3.1883e+00 - acc: 0.8000 - val_loss: 1.2594 - val_acc: 0.6667\n",
      "Epoch 15/100\n",
      " - 0s - loss: -3.1883e+00 - acc: 0.8000 - val_loss: 1.2596 - val_acc: 0.6667\n",
      "Epoch 16/100\n",
      " - 0s - loss: -3.1883e+00 - acc: 0.8000 - val_loss: 1.2598 - val_acc: 0.6667\n",
      "Epoch 17/100\n",
      " - 0s - loss: -3.1883e+00 - acc: 0.8000 - val_loss: 1.2600 - val_acc: 0.6667\n",
      "Epoch 18/100\n",
      " - 0s - loss: -3.1883e+00 - acc: 0.8000 - val_loss: 1.2602 - val_acc: 0.6667\n",
      "Epoch 19/100\n",
      " - 0s - loss: -3.1883e+00 - acc: 0.8000 - val_loss: 1.2604 - val_acc: 0.6667\n",
      "Epoch 20/100\n",
      " - 0s - loss: -3.1883e+00 - acc: 0.8000 - val_loss: 1.2606 - val_acc: 0.6667\n",
      "Epoch 21/100\n",
      " - 0s - loss: -3.1883e+00 - acc: 0.8000 - val_loss: 1.2608 - val_acc: 0.6667\n",
      "Epoch 22/100\n",
      " - 0s - loss: -3.1883e+00 - acc: 0.8000 - val_loss: 1.2610 - val_acc: 0.6667\n",
      "Epoch 23/100\n",
      " - 0s - loss: -3.1883e+00 - acc: 0.8000 - val_loss: 1.2612 - val_acc: 0.6667\n",
      "Epoch 24/100\n",
      " - 0s - loss: -3.1883e+00 - acc: 0.8000 - val_loss: 1.2614 - val_acc: 0.6667\n",
      "Epoch 25/100\n",
      " - 0s - loss: -3.1883e+00 - acc: 0.8000 - val_loss: 1.2616 - val_acc: 0.6667\n",
      "Epoch 26/100\n",
      " - 0s - loss: -3.1883e+00 - acc: 0.8000 - val_loss: 1.2618 - val_acc: 0.6667\n",
      "Epoch 27/100\n",
      " - 0s - loss: -3.1883e+00 - acc: 0.8000 - val_loss: 1.2620 - val_acc: 0.6667\n",
      "Epoch 28/100\n",
      " - 0s - loss: -3.1883e+00 - acc: 0.8000 - val_loss: 1.2622 - val_acc: 0.6667\n",
      "Epoch 29/100\n",
      " - 0s - loss: -3.1883e+00 - acc: 0.8000 - val_loss: 1.2624 - val_acc: 0.6667\n",
      "Epoch 30/100\n",
      " - 0s - loss: -3.1883e+00 - acc: 0.8000 - val_loss: 1.2626 - val_acc: 0.6667\n",
      "Epoch 31/100\n",
      " - 0s - loss: -3.1883e+00 - acc: 0.8000 - val_loss: 1.2628 - val_acc: 0.6667\n",
      "Epoch 32/100\n",
      " - 0s - loss: -3.1883e+00 - acc: 0.8000 - val_loss: 1.2630 - val_acc: 0.6667\n",
      "Epoch 33/100\n",
      " - 0s - loss: -3.1883e+00 - acc: 0.8000 - val_loss: 1.2632 - val_acc: 0.6667\n",
      "Epoch 34/100\n",
      " - 0s - loss: -3.1883e+00 - acc: 0.8000 - val_loss: 1.2634 - val_acc: 0.6667\n",
      "Epoch 35/100\n",
      " - 0s - loss: -3.1883e+00 - acc: 0.8000 - val_loss: 1.2636 - val_acc: 0.6667\n",
      "Epoch 36/100\n",
      " - 0s - loss: -3.1883e+00 - acc: 0.8000 - val_loss: 1.2638 - val_acc: 0.6667\n",
      "Epoch 37/100\n",
      " - 0s - loss: -3.1883e+00 - acc: 0.8000 - val_loss: 1.2640 - val_acc: 0.6667\n",
      "Epoch 38/100\n",
      " - 0s - loss: -3.1883e+00 - acc: 0.8000 - val_loss: 1.2641 - val_acc: 0.6667\n",
      "Epoch 39/100\n",
      " - 0s - loss: -3.1883e+00 - acc: 0.8000 - val_loss: 1.2643 - val_acc: 0.6667\n",
      "Epoch 40/100\n",
      " - 0s - loss: -3.1883e+00 - acc: 0.8000 - val_loss: 1.2645 - val_acc: 0.6667\n",
      "Epoch 41/100\n",
      " - 0s - loss: -3.1883e+00 - acc: 0.8000 - val_loss: 1.2647 - val_acc: 0.6667\n",
      "Epoch 42/100\n",
      " - 0s - loss: -3.1883e+00 - acc: 0.8000 - val_loss: 1.2649 - val_acc: 0.6667\n",
      "Epoch 43/100\n",
      " - 0s - loss: -3.1883e+00 - acc: 0.8000 - val_loss: 1.2651 - val_acc: 0.6667\n",
      "Epoch 44/100\n",
      " - 0s - loss: -3.1883e+00 - acc: 0.8000 - val_loss: 1.2653 - val_acc: 0.6667\n",
      "Epoch 45/100\n",
      " - 0s - loss: -3.1883e+00 - acc: 0.8000 - val_loss: 1.2655 - val_acc: 0.6667\n",
      "Epoch 46/100\n",
      " - 0s - loss: -3.1883e+00 - acc: 0.8000 - val_loss: 1.2657 - val_acc: 0.6667\n",
      "Epoch 47/100\n",
      " - 0s - loss: -3.1883e+00 - acc: 0.8000 - val_loss: 1.2659 - val_acc: 0.6667\n",
      "Epoch 48/100\n",
      " - 0s - loss: -3.1883e+00 - acc: 0.8000 - val_loss: 1.2660 - val_acc: 0.6667\n",
      "Epoch 49/100\n",
      " - 0s - loss: -3.1883e+00 - acc: 0.8000 - val_loss: 1.2662 - val_acc: 0.6667\n",
      "Epoch 50/100\n",
      " - 0s - loss: -3.1883e+00 - acc: 0.8000 - val_loss: 1.2664 - val_acc: 0.6667\n",
      "Epoch 51/100\n",
      " - 0s - loss: -3.1883e+00 - acc: 0.8000 - val_loss: 1.2666 - val_acc: 0.6667\n",
      "Epoch 52/100\n",
      " - 0s - loss: -3.1883e+00 - acc: 0.8000 - val_loss: 1.2668 - val_acc: 0.6667\n",
      "Epoch 53/100\n",
      " - 0s - loss: -3.1883e+00 - acc: 0.8000 - val_loss: 1.2670 - val_acc: 0.6667\n",
      "Epoch 54/100\n",
      " - 0s - loss: -3.1883e+00 - acc: 0.8000 - val_loss: 1.2672 - val_acc: 0.6667\n",
      "Epoch 55/100\n",
      " - 0s - loss: -3.1883e+00 - acc: 0.8000 - val_loss: 1.2674 - val_acc: 0.6667\n",
      "Epoch 56/100\n",
      " - 0s - loss: -3.1883e+00 - acc: 0.8000 - val_loss: 1.2675 - val_acc: 0.6667\n",
      "Epoch 57/100\n",
      " - 0s - loss: -3.1883e+00 - acc: 0.8000 - val_loss: 1.2677 - val_acc: 0.6667\n",
      "Epoch 58/100\n",
      " - 0s - loss: -3.1883e+00 - acc: 0.8000 - val_loss: 1.2679 - val_acc: 0.6667\n",
      "Epoch 59/100\n",
      " - 0s - loss: -3.1883e+00 - acc: 0.8000 - val_loss: 1.2681 - val_acc: 0.6667\n",
      "Epoch 60/100\n",
      " - 0s - loss: -3.1883e+00 - acc: 0.8000 - val_loss: 1.2683 - val_acc: 0.6667\n",
      "Epoch 61/100\n",
      " - 0s - loss: -3.1883e+00 - acc: 0.8000 - val_loss: 1.2685 - val_acc: 0.6667\n",
      "Epoch 62/100\n",
      " - 0s - loss: -3.1883e+00 - acc: 0.8000 - val_loss: 1.2687 - val_acc: 0.6667\n",
      "Epoch 63/100\n",
      " - 0s - loss: -3.1883e+00 - acc: 0.8000 - val_loss: 1.2688 - val_acc: 0.6667\n",
      "Epoch 64/100\n",
      " - 0s - loss: -3.1883e+00 - acc: 0.8000 - val_loss: 1.2690 - val_acc: 0.6667\n",
      "Epoch 65/100\n",
      " - 0s - loss: -3.1883e+00 - acc: 0.8000 - val_loss: 1.2692 - val_acc: 0.6667\n",
      "Epoch 66/100\n",
      " - 0s - loss: -3.1883e+00 - acc: 0.8000 - val_loss: 1.2694 - val_acc: 0.6667\n",
      "Epoch 67/100\n",
      " - 0s - loss: -3.1883e+00 - acc: 0.8000 - val_loss: 1.2696 - val_acc: 0.6667\n",
      "Epoch 68/100\n",
      " - 0s - loss: -3.1883e+00 - acc: 0.8000 - val_loss: 1.2698 - val_acc: 0.6667\n",
      "Epoch 69/100\n",
      " - 0s - loss: -3.1883e+00 - acc: 0.8000 - val_loss: 1.2700 - val_acc: 0.6667\n",
      "Epoch 70/100\n",
      " - 0s - loss: -3.1883e+00 - acc: 0.8000 - val_loss: 1.2701 - val_acc: 0.6667\n",
      "Epoch 71/100\n",
      " - 0s - loss: -3.1883e+00 - acc: 0.8000 - val_loss: 1.2703 - val_acc: 0.6667\n",
      "Epoch 72/100\n",
      " - 0s - loss: -3.1883e+00 - acc: 0.8000 - val_loss: 1.2705 - val_acc: 0.6667\n",
      "Epoch 73/100\n",
      " - 0s - loss: -3.1883e+00 - acc: 0.8000 - val_loss: 1.2707 - val_acc: 0.6667\n",
      "Epoch 74/100\n",
      " - 0s - loss: -3.1883e+00 - acc: 0.8000 - val_loss: 1.2709 - val_acc: 0.6667\n",
      "Epoch 75/100\n",
      " - 0s - loss: -3.1883e+00 - acc: 0.8000 - val_loss: 1.2710 - val_acc: 0.6667\n",
      "Epoch 76/100\n",
      " - 0s - loss: -3.1883e+00 - acc: 0.8000 - val_loss: 1.2712 - val_acc: 0.6667\n",
      "Epoch 77/100\n",
      " - 0s - loss: -3.1883e+00 - acc: 0.8000 - val_loss: 1.2714 - val_acc: 0.6667\n",
      "Epoch 78/100\n",
      " - 0s - loss: -3.1883e+00 - acc: 0.8000 - val_loss: 1.2716 - val_acc: 0.6667\n",
      "Epoch 79/100\n",
      " - 0s - loss: -3.1883e+00 - acc: 0.8000 - val_loss: 1.2718 - val_acc: 0.6667\n",
      "Epoch 80/100\n",
      " - 0s - loss: -3.1883e+00 - acc: 0.8000 - val_loss: 1.2720 - val_acc: 0.6667\n",
      "Epoch 81/100\n",
      " - 0s - loss: -3.1883e+00 - acc: 0.8000 - val_loss: 1.2721 - val_acc: 0.6667\n",
      "Epoch 82/100\n",
      " - 0s - loss: -3.1883e+00 - acc: 0.8000 - val_loss: 1.2723 - val_acc: 0.6667\n",
      "Epoch 83/100\n",
      " - 0s - loss: -3.1883e+00 - acc: 0.8000 - val_loss: 1.2725 - val_acc: 0.6667\n",
      "Epoch 84/100\n",
      " - 0s - loss: -3.1883e+00 - acc: 0.8000 - val_loss: 1.2727 - val_acc: 0.6667\n",
      "Epoch 85/100\n",
      " - 0s - loss: -3.1883e+00 - acc: 0.8000 - val_loss: 1.2729 - val_acc: 0.6667\n",
      "Epoch 86/100\n",
      " - 0s - loss: -3.1883e+00 - acc: 0.8000 - val_loss: 1.2730 - val_acc: 0.6667\n",
      "Epoch 87/100\n",
      " - 0s - loss: -3.1883e+00 - acc: 0.8000 - val_loss: 1.2732 - val_acc: 0.6667\n",
      "Epoch 88/100\n",
      " - 0s - loss: -3.1883e+00 - acc: 0.8000 - val_loss: 1.2734 - val_acc: 0.6667\n",
      "Epoch 89/100\n",
      " - 0s - loss: -3.1883e+00 - acc: 0.8000 - val_loss: 1.2736 - val_acc: 0.6667\n",
      "Epoch 90/100\n",
      " - 0s - loss: -3.1883e+00 - acc: 0.8000 - val_loss: 1.2738 - val_acc: 0.6667\n",
      "Epoch 91/100\n",
      " - 0s - loss: -3.1883e+00 - acc: 0.8000 - val_loss: 1.2739 - val_acc: 0.6667\n"
     ]
    },
    {
     "name": "stdout",
     "output_type": "stream",
     "text": [
      "Epoch 92/100\n",
      " - 0s - loss: -3.1883e+00 - acc: 0.8000 - val_loss: 1.2741 - val_acc: 0.6667\n",
      "Epoch 93/100\n",
      " - 0s - loss: -3.1883e+00 - acc: 0.8000 - val_loss: 1.2743 - val_acc: 0.6667\n",
      "Epoch 94/100\n",
      " - 0s - loss: -3.1883e+00 - acc: 0.8000 - val_loss: 1.2745 - val_acc: 0.6667\n",
      "Epoch 95/100\n",
      " - 0s - loss: -3.1883e+00 - acc: 0.8000 - val_loss: 1.2747 - val_acc: 0.6667\n",
      "Epoch 96/100\n",
      " - 0s - loss: -3.1883e+00 - acc: 0.8000 - val_loss: 1.2748 - val_acc: 0.6667\n",
      "Epoch 97/100\n",
      " - 0s - loss: -3.1883e+00 - acc: 0.8000 - val_loss: 1.2750 - val_acc: 0.6667\n",
      "Epoch 98/100\n",
      " - 0s - loss: -3.1883e+00 - acc: 0.8000 - val_loss: 1.2752 - val_acc: 0.6667\n",
      "Epoch 99/100\n",
      " - 0s - loss: -3.1883e+00 - acc: 0.8000 - val_loss: 1.2754 - val_acc: 0.6667\n",
      "Epoch 100/100\n",
      " - 0s - loss: -3.1883e+00 - acc: 0.8000 - val_loss: 1.2755 - val_acc: 0.6667\n"
     ]
    },
    {
     "data": {
      "text/plain": [
       "<keras.callbacks.History at 0x1bc078da780>"
      ]
     },
     "execution_count": 49,
     "metadata": {},
     "output_type": "execute_result"
    }
   ],
   "source": [
    "model.fit(X_train, y_train, validation_data=(X_test, y_test), epochs=100, batch_size=128, verbose=2)"
   ]
  },
  {
   "cell_type": "code",
   "execution_count": 51,
   "metadata": {},
   "outputs": [
    {
     "name": "stdout",
     "output_type": "stream",
     "text": [
      "Accuracy: 66.67%\n"
     ]
    }
   ],
   "source": [
    "# Final evaluation of the model\n",
    "scores = model.evaluate(X_test, y_test, verbose=0)\n",
    "print(\"Accuracy: %.2f%%\" % (scores[1]*100))\n"
   ]
  },
  {
   "cell_type": "code",
   "execution_count": 82,
   "metadata": {},
   "outputs": [
    {
     "name": "stderr",
     "output_type": "stream",
     "text": [
      "C:\\Users\\tonyd\\AppData\\Local\\Continuum\\anaconda3\\lib\\site-packages\\sklearn\\model_selection\\_split.py:2179: FutureWarning: From version 0.21, test_size will always complement train_size unless both are specified.\n",
      "  FutureWarning)\n"
     ]
    }
   ],
   "source": [
    "import nltk\n",
    "from nltk.corpus import stopwords\n",
    "set(stopwords.words('english'))\n",
    "# Using SVC\n",
    "from sklearn.feature_extraction.text import CountVectorizer\n",
    "from sklearn.model_selection import train_test_split\n",
    "from sklearn.metrics import accuracy_score\n",
    "from sklearn.svm import LinearSVC\n",
    "ngram_vectorizer = CountVectorizer(binary=True, ngram_range=(1, 3), stop_words=stopwords.words('english'))\n",
    "ngram_vectorizer.fit(dataset['text'])\n",
    "X = ngram_vectorizer.transform(dataset['text'])\n",
    "X_test = ngram_vectorizer.transform(dataset['text'])\n",
    "dataset = pd.read_csv('d:/sentiment analysis/DEN/DEN_A.csv')\n",
    "X_train, X_test, y_train, y_test = train_test_split(\n",
    "    X, y, train_size = 0.75\n",
    ")\n"
   ]
  },
  {
   "cell_type": "code",
   "execution_count": 86,
   "metadata": {},
   "outputs": [
    {
     "name": "stdout",
     "output_type": "stream",
     "text": [
      "Accuracy for C=0.001: 0.5384615384615384\n",
      "Accuracy for C=0.005: 0.5384615384615384\n",
      "Accuracy for C=0.01: 0.46153846153846156\n",
      "Accuracy for C=0.05: 0.46153846153846156\n",
      "Accuracy for C=0.1: 0.38461538461538464\n"
     ]
    }
   ],
   "source": [
    "for c in [0.001, 0.005, 0.01, 0.05, 0.1]:\n",
    "\n",
    "# SVC model\n",
    "    svm = LinearSVC(C=c)\n",
    "    svm.fit(X_train, y_train)\n",
    "    print (\"Accuracy for C=%s: %s\" \n",
    "           % (c, accuracy_score(y_test, svm.predict(X_test))))\n"
   ]
  },
  {
   "cell_type": "code",
   "execution_count": 87,
   "metadata": {},
   "outputs": [
    {
     "name": "stdout",
     "output_type": "stream",
     "text": [
      "Final Accuracy: 1.000\n"
     ]
    }
   ],
   "source": [
    "# Final accuracy with SVC\n",
    "final = LinearSVC(C=0.01)\n",
    "final.fit(X, y)\n",
    "print (\"Final Accuracy: %.3f\" \n",
    "       % accuracy_score(y_test, final.predict(X_test)))\n"
   ]
  },
  {
   "cell_type": "code",
   "execution_count": 88,
   "metadata": {},
   "outputs": [],
   "source": [
    "# Logistic Regression\n",
    "from sklearn.linear_model import LogisticRegression"
   ]
  },
  {
   "cell_type": "code",
   "execution_count": 89,
   "metadata": {},
   "outputs": [],
   "source": [
    "target = [1 if i < 25 else 0 for i in range(50)]"
   ]
  },
  {
   "cell_type": "code",
   "execution_count": 90,
   "metadata": {},
   "outputs": [
    {
     "name": "stdout",
     "output_type": "stream",
     "text": [
      "Accuracy for C=0.01: 0.5384615384615384\n",
      "Accuracy for C=0.05: 0.5384615384615384\n",
      "Accuracy for C=0.25: 0.46153846153846156\n",
      "Accuracy for C=0.5: 0.46153846153846156\n",
      "Accuracy for C=1: 0.46153846153846156\n"
     ]
    },
    {
     "name": "stderr",
     "output_type": "stream",
     "text": [
      "C:\\Users\\tonyd\\AppData\\Local\\Continuum\\anaconda3\\lib\\site-packages\\sklearn\\linear_model\\logistic.py:433: FutureWarning: Default solver will be changed to 'lbfgs' in 0.22. Specify a solver to silence this warning.\n",
      "  FutureWarning)\n",
      "C:\\Users\\tonyd\\AppData\\Local\\Continuum\\anaconda3\\lib\\site-packages\\sklearn\\linear_model\\logistic.py:460: FutureWarning: Default multi_class will be changed to 'auto' in 0.22. Specify the multi_class option to silence this warning.\n",
      "  \"this warning.\", FutureWarning)\n"
     ]
    }
   ],
   "source": [
    "for c in [0.01, 0.05, 0.25, 0.5, 1]:\n",
    "\n",
    "    lr = LogisticRegression(C=c)\n",
    "    lr.fit(X_train, y_train)\n",
    "    print (\"Accuracy for C=%s: %s\" \n",
    "           % (c, accuracy_score(y_test, lr.predict(X_test))))"
   ]
  },
  {
   "cell_type": "code",
   "execution_count": 91,
   "metadata": {},
   "outputs": [
    {
     "name": "stdout",
     "output_type": "stream",
     "text": [
      "Accuracy for C=0.01: 0.6923076923076923\n",
      "Accuracy for C=0.05: 0.8461538461538461\n",
      "Accuracy for C=0.25: 0.8461538461538461\n",
      "Accuracy for C=0.5: 0.8461538461538461\n",
      "Accuracy for C=1: 0.8461538461538461\n"
     ]
    }
   ],
   "source": [
    "target = [1 if i < 25 else 0 for i in range(50)]\n",
    "# Split the sample\n",
    "X_train, X_val, y_train, y_val = train_test_split(\n",
    "    X, target, train_size = 0.75\n",
    ")\n",
    "\n",
    "for c in [0.01, 0.05, 0.25, 0.5, 1]:\n",
    "\n",
    "    lr = LogisticRegression(C=c)\n",
    "    lr.fit(X_train, y_train)\n",
    "    print (\"Accuracy for C=%s: %s\" % (c, accuracy_score(y_val, lr.predict(X_val))))\n"
   ]
  },
  {
   "cell_type": "code",
   "execution_count": 92,
   "metadata": {},
   "outputs": [
    {
     "name": "stdout",
     "output_type": "stream",
     "text": [
      "[-0.10526316 -0.22222222]\n"
     ]
    },
    {
     "name": "stderr",
     "output_type": "stream",
     "text": [
      "C:\\Users\\tonyd\\AppData\\Local\\Continuum\\anaconda3\\lib\\site-packages\\sklearn\\linear_model\\logistic.py:433: FutureWarning: Default solver will be changed to 'lbfgs' in 0.22. Specify a solver to silence this warning.\n",
      "  FutureWarning)\n",
      "C:\\Users\\tonyd\\AppData\\Local\\Continuum\\anaconda3\\lib\\site-packages\\sklearn\\linear_model\\logistic.py:433: FutureWarning: Default solver will be changed to 'lbfgs' in 0.22. Specify a solver to silence this warning.\n",
      "  FutureWarning)\n"
     ]
    }
   ],
   "source": [
    "# Cross Validation Score\n",
    "from sklearn.model_selection import cross_val_score\n",
    "scores = cross_val_score(lr, X_train, y_train, cv=2,\n",
    "scoring='neg_mean_squared_error')\n",
    "print(scores)\n"
   ]
  },
  {
   "cell_type": "code",
   "execution_count": 96,
   "metadata": {},
   "outputs": [
    {
     "data": {
      "text/plain": [
       "array([[6, 1],\n",
       "       [1, 5]], dtype=int64)"
      ]
     },
     "execution_count": 96,
     "metadata": {},
     "output_type": "execute_result"
    }
   ],
   "source": [
    "from sklearn.metrics import confusion_matrix\n",
    "cm = confusion_matrix(y_val, lr.predict(X_val))\n",
    "cm[::-1, ::-1]\n",
    "\n"
   ]
  },
  {
   "cell_type": "code",
   "execution_count": 97,
   "metadata": {},
   "outputs": [
    {
     "data": {
      "text/plain": [
       "0.8571428571428571"
      ]
     },
     "execution_count": 97,
     "metadata": {},
     "output_type": "execute_result"
    }
   ],
   "source": [
    "from sklearn.metrics import precision_score\n",
    "precision_score(y_val, lr.predict(X_val))\n"
   ]
  },
  {
   "cell_type": "code",
   "execution_count": 98,
   "metadata": {},
   "outputs": [
    {
     "data": {
      "text/plain": [
       "0.8571428571428571"
      ]
     },
     "execution_count": 98,
     "metadata": {},
     "output_type": "execute_result"
    }
   ],
   "source": [
    "from sklearn.metrics import recall_score\n",
    "recall_score(y_val, lr.predict(X_val))\n"
   ]
  },
  {
   "cell_type": "code",
   "execution_count": 99,
   "metadata": {},
   "outputs": [
    {
     "data": {
      "text/plain": [
       "0.8461538461538461"
      ]
     },
     "execution_count": 99,
     "metadata": {},
     "output_type": "execute_result"
    }
   ],
   "source": [
    "from sklearn.metrics import accuracy_score\n",
    "accuracy_score(y_val, lr.predict(X_val))\n"
   ]
  },
  {
   "cell_type": "code",
   "execution_count": 100,
   "metadata": {},
   "outputs": [],
   "source": [
    "# Receiver Operating Curve (ROC)\n",
    "Y_scores = lr.decision_function(X_test)\n",
    "from sklearn.metrics import roc_curve\n",
    "fpr, tpr, thresholds = roc_curve(y_val, Y_scores)\n"
   ]
  },
  {
   "cell_type": "code",
   "execution_count": 101,
   "metadata": {},
   "outputs": [
    {
     "data": {
      "text/plain": [
       "0.35714285714285715"
      ]
     },
     "execution_count": 101,
     "metadata": {},
     "output_type": "execute_result"
    }
   ],
   "source": [
    "# Area Under the Curve (AUC) \n",
    "from sklearn.metrics import auc\n",
    "auc(fpr, tpr)\n"
   ]
  }
 ],
 "metadata": {
  "kernelspec": {
   "display_name": "Python 3",
   "language": "python",
   "name": "python3"
  },
  "language_info": {
   "codemirror_mode": {
    "name": "ipython",
    "version": 3
   },
   "file_extension": ".py",
   "mimetype": "text/x-python",
   "name": "python",
   "nbconvert_exporter": "python",
   "pygments_lexer": "ipython3",
   "version": "3.7.3"
  }
 },
 "nbformat": 4,
 "nbformat_minor": 2
}
