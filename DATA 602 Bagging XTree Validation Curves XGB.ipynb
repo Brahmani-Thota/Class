{
 "cells": [
  {
   "cell_type": "code",
   "execution_count": 1,
   "metadata": {},
   "outputs": [
    {
     "name": "stdout",
     "output_type": "stream",
     "text": [
      "Bagging: 0.88\n"
     ]
    },
    {
     "name": "stderr",
     "output_type": "stream",
     "text": [
      "C:\\Users\\Owner\\Anaconda3\\lib\\site-packages\\sklearn\\ensemble\\bagging.py:609: UserWarning: Some inputs do not have OOB scores. This probably means too few estimators were used to compute any reliable oob estimates.\n",
      "  warn(\"Some inputs do not have OOB scores. \"\n",
      "C:\\Users\\Owner\\Anaconda3\\lib\\site-packages\\sklearn\\ensemble\\bagging.py:614: RuntimeWarning: invalid value encountered in true_divide\n",
      "  predictions.sum(axis=1)[:, np.newaxis])\n"
     ]
    }
   ],
   "source": [
    "# --- SECTION 1 ---\n",
    "# Libraries and data loading\n",
    "from sklearn.datasets import load_digits\n",
    "from sklearn.tree import DecisionTreeClassifier\n",
    "from sklearn.ensemble import BaggingClassifier\n",
    "from sklearn import metrics\n",
    "\n",
    "\n",
    "digits = load_digits()\n",
    "\n",
    "train_size = 1500\n",
    "train_x, train_y = digits.data[:train_size], digits.target[:train_size]\n",
    "test_x, test_y = digits.data[train_size:], digits.target[train_size:]\n",
    "\n",
    "# --- SECTION 2 ---\n",
    "# Create the ensemble\n",
    "ensemble_size = 10\n",
    "ensemble = BaggingClassifier(base_estimator=DecisionTreeClassifier(),\n",
    "                             n_estimators=ensemble_size,\n",
    "                             oob_score=True)\n",
    "\n",
    "# --- SECTION 3 ---\n",
    "# Train the ensemble\n",
    "ensemble.fit(train_x, train_y)\n",
    "\n",
    "# --- SECTION 4 ---\n",
    "# Evaluate the ensemble\n",
    "ensemble_predictions = ensemble.predict(test_x)\n",
    "\n",
    "ensemble_acc = metrics.accuracy_score(test_y, ensemble_predictions)\n",
    "\n",
    "# --- SECTION 5 ---\n",
    "# Print the accuracy\n",
    "print('Bagging: %.2f' % ensemble_acc)"
   ]
  },
  {
   "cell_type": "code",
   "execution_count": 2,
   "metadata": {},
   "outputs": [
    {
     "name": "stdout",
     "output_type": "stream",
     "text": [
      "Extra Tree Forest: 0.94\n"
     ]
    }
   ],
   "source": [
    "# --- SECTION 1 ---\n",
    "# Libraries and data loading\n",
    "from sklearn.datasets import load_digits\n",
    "from sklearn.ensemble import ExtraTreesClassifier\n",
    "from sklearn import metrics\n",
    "import numpy as np\n",
    "\n",
    "digits = load_digits()\n",
    "\n",
    "\n",
    "train_size = 1500\n",
    "train_x, train_y = digits.data[:train_size], digits.target[:train_size]\n",
    "test_x, test_y = digits.data[train_size:], digits.target[train_size:]\n",
    "\n",
    "np.random.seed(123456)\n",
    "# --- SECTION 2 ---\n",
    "# Create the ensemble\n",
    "ensemble_size = 500\n",
    "ensemble = ExtraTreesClassifier(n_estimators=ensemble_size, n_jobs=4)\n",
    "\n",
    "# --- SECTION 3 ---\n",
    "# Train the ensemble\n",
    "ensemble.fit(train_x, train_y)\n",
    "\n",
    "# --- SECTION 4 ---\n",
    "# Evaluate the ensemble\n",
    "ensemble_predictions = ensemble.predict(test_x)\n",
    "\n",
    "ensemble_acc = metrics.accuracy_score(test_y, ensemble_predictions)\n",
    "\n",
    "# --- SECTION 5 ---\n",
    "# Print the accuracy\n",
    "print('Extra Tree Forest: %.2f' % ensemble_acc)"
   ]
  },
  {
   "cell_type": "code",
   "execution_count": 4,
   "metadata": {},
   "outputs": [
    {
     "data": {
      "text/plain": [
       "<matplotlib.legend.Legend at 0x243a778e080>"
      ]
     },
     "execution_count": 4,
     "metadata": {},
     "output_type": "execute_result"
    },
    {
     "data": {
      "image/png": "[encoded data removed]",
      "text/plain": [
       "<Figure size 432x288 with 1 Axes>"
      ]
     },
     "metadata": {
      "needs_background": "light"
     },
     "output_type": "display_data"
    }
   ],
   "source": [
    "# --- SECTION 1 ---\n",
    "# Libraries and data loading\n",
    "from sklearn.datasets import load_digits\n",
    "from sklearn.ensemble import ExtraTreesClassifier\n",
    "from sklearn.model_selection import validation_curve\n",
    "from sklearn import metrics\n",
    "import numpy as np\n",
    "import matplotlib.pyplot as plt\n",
    "%matplotlib inline\n",
    "digits = load_digits()\n",
    "\n",
    "\n",
    "train_size = 1500\n",
    "train_x, train_y = digits.data[:train_size], digits.target[:train_size]\n",
    "test_x, test_y = digits.data[train_size:], digits.target[train_size:]\n",
    "\n",
    "np.random.seed(123456)\n",
    "# --- SECTION 2 ---\n",
    "# Create the ensemble\n",
    "ensemble_size = 500\n",
    "ensemble = ExtraTreesClassifier(n_estimators=ensemble_size, n_jobs=4)\n",
    "\n",
    "param_range = [10, 50, 100, 150, 200, 250, 300, 350, 400]\n",
    "train_scores, test_scores = validation_curve(ensemble, train_x, train_y, 'n_estimators', param_range,\n",
    "                       cv=10, scoring='accuracy')\n",
    "\n",
    "# --- SECTION 3 ---\n",
    "# Calculate the average and standard deviation for each hyperparameter\n",
    "train_scores_mean = np.mean(train_scores, axis=1)\n",
    "train_scores_std = np.std(train_scores, axis=1)\n",
    "test_scores_mean = np.mean(test_scores, axis=1)\n",
    "test_scores_std = np.std(test_scores, axis=1)\n",
    "\n",
    "\n",
    "# --- SECTION 4 ---\n",
    "# Plot the scores\n",
    "plt.figure()\n",
    "plt.title('Validation curves (Extra Trees)')\n",
    "# Plot the standard deviations\n",
    "plt.fill_between(param_range, train_scores_mean - train_scores_std,\n",
    "                 train_scores_mean + train_scores_std, alpha=0.1,\n",
    "                 color=\"C1\")\n",
    "plt.fill_between(param_range, test_scores_mean - test_scores_std,\n",
    "                 test_scores_mean + test_scores_std, alpha=0.1, color=\"C0\")\n",
    "\n",
    "# Plot the means\n",
    "plt.plot(param_range, train_scores_mean, 'o-', color=\"C1\",\n",
    "         label=\"Training score\")\n",
    "plt.plot(param_range, test_scores_mean, 'o-', color=\"C0\",\n",
    "         label=\"Cross-validation score\")\n",
    "\n",
    "plt.xticks(param_range)\n",
    "plt.xlabel('Number of trees')\n",
    "plt.ylabel('Accuracy')\n",
    "plt.legend(loc=\"best\")"
   ]
  },
  {
   "cell_type": "code",
   "execution_count": 8,
   "metadata": {},
   "outputs": [
    {
     "name": "stdout",
     "output_type": "stream",
     "text": [
      "Boosting: 0.89\n"
     ]
    },
    {
     "data": {
      "text/plain": [
       "<matplotlib.legend.Legend at 0x243a757fd30>"
      ]
     },
     "execution_count": 8,
     "metadata": {},
     "output_type": "execute_result"
    },
    {
     "data": {
      "image/png": "[encoded data removed]",
      "text/plain": [
       "<Figure size 432x288 with 2 Axes>"
      ]
     },
     "metadata": {
      "needs_background": "light"
     },
     "output_type": "display_data"
    }
   ],
   "source": [
    "# --- SECTION 1 ---\n",
    "# Libraries and data loading\n",
    "import numpy as np\n",
    "\n",
    "from sklearn.datasets import load_digits\n",
    "from sklearn.tree import DecisionTreeClassifier\n",
    "from sklearn.ensemble import GradientBoostingClassifier\n",
    "from sklearn import metrics\n",
    "\n",
    "\n",
    "digits = load_digits()\n",
    "\n",
    "train_size = 1500\n",
    "train_x, train_y = digits.data[:train_size], digits.target[:train_size]\n",
    "test_x, test_y = digits.data[train_size:], digits.target[train_size:]\n",
    "\n",
    "np.random.seed(123456)\n",
    "# --- SECTION 2 ---\n",
    "# Create the ensemble\n",
    "ensemble_size = 200\n",
    "learning_rate = 0.1\n",
    "ensemble = GradientBoostingClassifier(n_estimators=ensemble_size,\n",
    "                                      learning_rate=learning_rate)\n",
    "\n",
    "# --- SECTION 3 ---\n",
    "# Train the ensemble\n",
    "ensemble.fit(train_x, train_y)\n",
    "\n",
    "# --- SECTION 4 ---\n",
    "# Evaluate the ensemble\n",
    "ensemble_predictions = ensemble.predict(test_x)\n",
    "\n",
    "ensemble_acc = metrics.accuracy_score(test_y, ensemble_predictions)\n",
    "\n",
    "# --- SECTION 5 ---\n",
    "# Print the accuracy\n",
    "print('Boosting: %.2f' % ensemble_acc)\n",
    "\n",
    "\n",
    "import matplotlib.pyplot as plt\n",
    "diffs = [ensemble.train_score_[i] - ensemble.train_score_[i-1] for i in range(1, len(ensemble.train_score_))]\n",
    "\n",
    "fig, ax1 = plt.subplots()\n",
    "ax1.plot(ensemble.train_score_, linestyle='--', label='Errors (Left axis)')\n",
    "\n",
    "\n",
    "ax2 = ax1.twinx()\n",
    "ax2.plot(diffs, label='Errors Differences (Right axis)')\n",
    "fig.legend()"
   ]
  },
  {
   "cell_type": "code",
   "execution_count": 9,
   "metadata": {},
   "outputs": [
    {
     "data": {
      "text/plain": [
       "<matplotlib.legend.Legend at 0x243a77c2cf8>"
      ]
     },
     "execution_count": 9,
     "metadata": {},
     "output_type": "execute_result"
    },
    {
     "data": {
      "image/png": "[encoded data removed]",
      "text/plain": [
       "<Figure size 432x288 with 1 Axes>"
      ]
     },
     "metadata": {},
     "output_type": "display_data"
    }
   ],
   "source": [
    "import matplotlib.pyplot as plt\n",
    "import numpy as np\n",
    "\n",
    "np.random.seed(12345)\n",
    "\n",
    "points = np.random.multivariate_normal([1, 1], ([1, 0.5],[0.5, 1]), 10)\n",
    "points2 = np.random.multivariate_normal([4, 4], ([1, 0.5],[0.5, 1]), 10)\n",
    "\n",
    "plt.scatter(*zip(*points), label='Class 1', marker='+', s=150)\n",
    "plt.scatter(*zip(*points2), label='Class 2', marker='_', s=150)\n",
    "plt.plot([-x+6 for x in range(0,10)], linestyle='--',\n",
    "          color='black', label='class boundary')\n",
    "\n",
    "#plt.text(0,5, '+', fontsize=18)\n",
    "#plt.text(1.5,5.5, '_', fontsize=18)\n",
    "\n",
    "r = range(-5,10)\n",
    "stable = [x for x in r]\n",
    "\n",
    "plt.plot([1.45 for x in r], stable, linestyle='--',\n",
    "          color='gray', label='outlier rules')\n",
    "plt.plot([1.9 for x in r], stable, linestyle='--',\n",
    "          color='gray')\n",
    "\n",
    "plt.plot(stable,[0.85 for x in r],  linestyle='--',\n",
    "          color='gray')\n",
    "plt.plot(stable,[0.55 for x in r],  linestyle='--',\n",
    "          color='gray')\n",
    "plt.xticks([], [])\n",
    "plt.yticks([], [])\n",
    "\n",
    "\n",
    "\n",
    "plt.legend()"
   ]
  },
  {
   "cell_type": "code",
   "execution_count": null,
   "metadata": {},
   "outputs": [],
   "source": []
  }
 ],
 "metadata": {
  "kernelspec": {
   "display_name": "Python 3",
   "language": "python",
   "name": "python3"
  },
  "language_info": {
   "codemirror_mode": {
    "name": "ipython",
    "version": 3
   },
   "file_extension": ".py",
   "mimetype": "text/x-python",
   "name": "python",
   "nbconvert_exporter": "python",
   "pygments_lexer": "ipython3",
   "version": "3.6.9"
  }
 },
 "nbformat": 4,
 "nbformat_minor": 2
}
