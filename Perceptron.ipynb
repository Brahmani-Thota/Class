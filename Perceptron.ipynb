{
 "cells": [
  {
   "cell_type": "code",
   "execution_count": null,
   "metadata": {},
   "outputs": [],
   "source": [
    "import numpy, random, os\n",
    "a = 1 #learning rate\n",
    "bias = 1 #value of bias\n",
    "weights = [random.random(),random.random(),random.random()] #weights generated in a list (3 weights in total for 2 neurons and the bias)\n",
    "def Perceptron(input1, input2, output) :\n",
    "   outputP = input1*weights[0]+input2*weights[1]+bias*weights[2]\n",
    "   if outputP > 0 : #activation function (here Heaviside)\n",
    "      outputP = 1\n",
    "   else :\n",
    "      outputP = 0\n",
    "   error = output - outputP\n",
    "   weights[0] += error * input1 * a\n",
    "   weights[1] += error * input2 * a\n",
    "   weights[2] += error * bias * a\n",
    "for i in range(50) :\n",
    "   Perceptron(1,1,1) #True or true\n",
    "   Perceptron(1,0,1) #True or false\n",
    "   Perceptron(0,1,1) #False or true\n",
    "   Perceptron(0,0,0) #False or false\n",
    "x = int(input())\n",
    "y = int(input())\n",
    "outputP = x*weights[0] + y*weights[1] + bias*weights[2]\n",
    "if outputP > 0 : #activation function\n",
    "   outputP = 1\n",
    "else :\n",
    "   outputP = 0\n",
    "print(x, \"or\", y, \"is : \", outputP)    \n",
    "outputP = 1/(1+numpy.exp(-outputP)) #sigmoid function    "
   ]
  },
  {
   "cell_type": "code",
   "execution_count": null,
   "metadata": {},
   "outputs": [],
   "source": []
  }
 ],
 "metadata": {
  "kernelspec": {
   "display_name": "Python 3",
   "language": "python",
   "name": "python3"
  },
  "language_info": {
   "codemirror_mode": {
    "name": "ipython",
    "version": 3
   },
   "file_extension": ".py",
   "mimetype": "text/x-python",
   "name": "python",
   "nbconvert_exporter": "python",
   "pygments_lexer": "ipython3",
   "version": "3.7.3"
  }
 },
 "nbformat": 4,
 "nbformat_minor": 2
}
