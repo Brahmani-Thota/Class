{
 "cells": [
  {
   "cell_type": "code",
   "execution_count": 75,
   "metadata": {},
   "outputs": [],
   "source": [
    "# Load all the necessary libraries \n",
    "import pandas as pd\n",
    "import numpy as np\n",
    "from pandas import Series, DataFrame\n",
    "from sklearn.linear_model import LinearRegression\n",
    "from sklearn.model_selection import KFold\n",
    "from sklearn.model_selection import train_test_split\n",
    "from sklearn.metrics import accuracy_score\n",
    "\n",
    "# Load the file\n",
    "airport=pd.read_csv('D:/Machine Learning/airport.csv')"
   ]
  },
  {
   "cell_type": "code",
   "execution_count": 76,
   "metadata": {},
   "outputs": [
    {
     "data": {
      "text/plain": [
       "(19, 13)"
      ]
     },
     "execution_count": 76,
     "metadata": {},
     "output_type": "execute_result"
    }
   ],
   "source": [
    "# Check the number of rows and columns \n",
    "airport.shape"
   ]
  },
  {
   "cell_type": "code",
   "execution_count": 77,
   "metadata": {},
   "outputs": [
    {
     "name": "stdout",
     "output_type": "stream",
     "text": [
      "    year     dep     arr  dep_dem  arr_dem  eff_aar     adr  cap_aar     cap  \\\n",
      "0   2000  172170  158570   215157   175647   339821  368792   339821  708613   \n",
      "1   2001  147010  133806   176997   144244   320077  336135   320077  656212   \n",
      "2   2002  142779  129089   169072   138061   317088  343905   317088  660993   \n",
      "3   2003  140023  126800   168626   138507   303844  337738   303844  641582   \n",
      "4   2004  161351  160474   203993   179710   302256  337324   302256  639580   \n",
      "5   2005  176738  176139   249869   209219   322701  321895   322836  644731   \n",
      "6   2006  191852  191288   326131   237164   335796  331485   337419  668904   \n",
      "7   2007  222946  222505   407468   332520   365119  343131   370455  713586   \n",
      "8   2008  221203  221458   352677   325057   365838  359354   372714  732068   \n",
      "9   2009  209595  209710   312026   288945   373893  350917   380245  731162   \n",
      "10  2010  200902  200595   277480   253438   349015  333458   351570  685028   \n",
      "11  2011  205231  204685   266431   263065   375289  339264   379989  719253   \n",
      "12  2012  202430  202162   254435   233863   409216  333894   412665  746559   \n",
      "13  2013  203798  203443   264611   252442   410030  327404   416274  743678   \n",
      "14  2014  213113  212793   269706   259825   416622  326557   422429  748986   \n",
      "15  2015  220122  220306   285469   275114   409928  323723   417113  740836   \n",
      "16  2016  225989  226432   296871   271421   421207  348720   426426  775146   \n",
      "17  2017  223126  223879   317699   299227   412406  332844   418746  751590   \n",
      "18  2018  227425  227342   312875   270243   430599  327024   436230  763254   \n",
      "\n",
      "    caputil  eff_dep  eff_arr   saer  \n",
      "0     46.67    91.93    94.31  93.00  \n",
      "1     42.79    93.41    95.48  94.34  \n",
      "2     41.13    94.81    95.87  95.29  \n",
      "3     41.59    94.26    94.73  94.47  \n",
      "4     50.32    93.22    94.93  94.02  \n",
      "5     54.73    91.55    93.92  92.63  \n",
      "6     57.28    91.98    94.20  92.92  \n",
      "7     62.42    90.42    91.82  91.05  \n",
      "8     60.47    89.35    92.10  90.67  \n",
      "9     57.35    89.91    92.47  91.14  \n",
      "10    58.61    92.05    92.89  92.45  \n",
      "11    56.99    91.84    92.76  92.30  \n",
      "12    54.19    93.28    94.91  94.06  \n",
      "13    54.76    93.27    94.07  93.66  \n",
      "14    56.86    93.58    93.62  93.60  \n",
      "15    59.45    93.68    93.92  93.80  \n",
      "16    58.37    93.35    94.09  93.71  \n",
      "17    59.47    92.18    93.47  92.81  \n",
      "18    59.58    92.29    94.00  93.08  \n"
     ]
    }
   ],
   "source": [
    "# View the dataset\n",
    "print(airport)"
   ]
  },
  {
   "cell_type": "code",
   "execution_count": 78,
   "metadata": {},
   "outputs": [],
   "source": [
    "# Create a data frame\n",
    "airport=pd.DataFrame(airport, columns=['caputil', 'dep'])\n",
    "# Define X and Y\n",
    "X=pd.DataFrame(airport['caputil'])\n",
    "Y=pd.DataFrame(airport['dep'])"
   ]
  },
  {
   "cell_type": "code",
   "execution_count": 60,
   "metadata": {},
   "outputs": [],
   "source": [
    "# Define the model\n",
    "reg = LinearRegression()"
   ]
  },
  {
   "cell_type": "code",
   "execution_count": 61,
   "metadata": {},
   "outputs": [],
   "source": [
    "# Determine three folds\n",
    "scores=[]\n",
    "kfold = KFold(n_splits=3, shuffle=True, random_state=42)"
   ]
  },
  {
   "cell_type": "code",
   "execution_count": 62,
   "metadata": {},
   "outputs": [
    {
     "name": "stdout",
     "output_type": "stream",
     "text": [
      "[0.9029142706220207, 0.9048352664783202, 0.5119143545760048]\n"
     ]
    }
   ],
   "source": [
    "# Create the iteration for the three folds\n",
    "for i, (train, test) in enumerate(kfold.split(X, Y)):\n",
    "    reg.fit(X.iloc[train,:], Y.iloc[train,:])\n",
    "    score = reg.score(X.iloc[test,:], Y.iloc[test,:])\n",
    "    scores.append(score)\n",
    "print(scores)"
   ]
  },
  {
   "cell_type": "code",
   "execution_count": 63,
   "metadata": {},
   "outputs": [
    {
     "name": "stdout",
     "output_type": "stream",
     "text": [
      "Coefficient of Determination: 0.8897612752328166\n"
     ]
    }
   ],
   "source": [
    "# Determine the coefficient of determination with sklearn\n",
    "reg = LinearRegression().fit(X, Y)\n",
    "print('Coefficient of Determination:', reg.score(X, Y))"
   ]
  },
  {
   "cell_type": "code",
   "execution_count": 64,
   "metadata": {},
   "outputs": [
    {
     "name": "stdout",
     "output_type": "stream",
     "text": [
      "Coefficients: [[4202.71508638]]\n"
     ]
    }
   ],
   "source": [
    "# Determine the coefficient for X\n",
    "print('Coefficients:', reg.coef_)"
   ]
  },
  {
   "cell_type": "code",
   "execution_count": 65,
   "metadata": {},
   "outputs": [
    {
     "name": "stdout",
     "output_type": "stream",
     "text": [
      "Intercept: [-33354.0929305]\n"
     ]
    }
   ],
   "source": [
    "# Determine the intercept\n",
    "print('Intercept:', reg.intercept_)"
   ]
  },
  {
   "cell_type": "code",
   "execution_count": 66,
   "metadata": {},
   "outputs": [],
   "source": [
    "# Predict the Y values\n",
    "Y_pred=reg.predict(Y)"
   ]
  },
  {
   "cell_type": "code",
   "execution_count": 67,
   "metadata": {},
   "outputs": [
    {
     "name": "stdout",
     "output_type": "stream",
     "text": [
      "Predicted Values:  [[7.23548102e+08]\n",
      " [6.17807791e+08]\n",
      " [6.00026103e+08]\n",
      " [5.88443420e+08]\n",
      " [6.78078928e+08]\n",
      " [7.42746105e+08]\n",
      " [8.06265941e+08]\n",
      " [9.36945164e+08]\n",
      " [9.29619831e+08]\n",
      " [8.80834714e+08]\n",
      " [8.44300512e+08]\n",
      " [8.62494066e+08]\n",
      " [8.50722261e+08]\n",
      " [8.56471575e+08]\n",
      " [8.95619866e+08]\n",
      " [9.25076696e+08]\n",
      " [9.49734026e+08]\n",
      " [9.37701652e+08]\n",
      " [9.55769124e+08]]\n"
     ]
    }
   ],
   "source": [
    "# Determine the values\n",
    "print('Predicted Values: ',Y_pred)"
   ]
  },
  {
   "cell_type": "code",
   "execution_count": 81,
   "metadata": {},
   "outputs": [],
   "source": [
    "# Visualize predicted errors\n",
    "from sklearn.model_selection import cross_val_predict\n",
    "predicted = cross_val_predict(reg, X, Y, cv=10)"
   ]
  },
  {
   "cell_type": "code",
   "execution_count": 83,
   "metadata": {},
   "outputs": [
    {
     "name": "stdout",
     "output_type": "stream",
     "text": [
      "Predicted Errors:  [[160835.55508042]\n",
      " [143928.21704009]\n",
      " [138393.80845549]\n",
      " [140358.20860634]\n",
      " [180662.82450213]\n",
      " [198806.56295092]\n",
      " [209181.70395083]\n",
      " [231558.86084681]\n",
      " [220561.15973044]\n",
      " [207488.73277439]\n",
      " [214087.71393934]\n",
      " [207154.97715331]\n",
      " [193506.03241906]\n",
      " [195900.52219425]\n",
      " [204795.19251424]\n",
      " [215536.69965656]\n",
      " [210137.99688364]\n",
      " [214613.01298902]\n",
      " [216056.74708452]]\n"
     ]
    }
   ],
   "source": [
    "# Determine the predicted errors\n",
    "print('Predicted Errors: ', predicted)"
   ]
  },
  {
   "cell_type": "code",
   "execution_count": 84,
   "metadata": {},
   "outputs": [
    {
     "data": {
      "image/png": "[encoded data removed]",
      "text/plain": [
       "<Figure size 432x288 with 1 Axes>"
      ]
     },
     "metadata": {
      "needs_background": "light"
     },
     "output_type": "display_data"
    }
   ],
   "source": [
    "# Create a graph of the predicted versus cross-validated errors\n",
    "import matplotlib.pyplot as plt\n",
    "%matplotlib inline\n",
    "fig, ax = plt.subplots()\n",
    "ax.scatter(Y, predicted, edgecolors=(0, 0, 0))\n",
    "ax.plot([Y.min(), Y.max()], [Y.min(), Y.max()], 'k--', lw=4)\n",
    "ax.set_xlabel('Measured')\n",
    "ax.set_ylabel('Predicted')\n",
    "plt.title('Prediction by Cross-Validation', fontdict=None, loc='center', pad=None)\n",
    "plt.show()"
   ]
  },
  {
   "cell_type": "code",
   "execution_count": 70,
   "metadata": {},
   "outputs": [],
   "source": [
    "# Method 2 Using Statsmodels\n",
    "import statsmodels.api as sm\n",
    "from scipy import stats"
   ]
  },
  {
   "cell_type": "code",
   "execution_count": 71,
   "metadata": {},
   "outputs": [
    {
     "name": "stdout",
     "output_type": "stream",
     "text": [
      "summary()\n",
      "                             OLS Regression Results                            \n",
      "==============================================================================\n",
      "Dep. Variable:                    dep   R-squared:                       0.890\n",
      "Model:                            OLS   Adj. R-squared:                  0.883\n",
      "Method:                 Least Squares   F-statistic:                     137.2\n",
      "Date:                Wed, 17 Jul 2019   Prob (F-statistic):           1.45e-09\n",
      "Time:                        09:08:05   Log-Likelihood:                -201.11\n",
      "No. Observations:                  19   AIC:                             406.2\n",
      "Df Residuals:                      17   BIC:                             408.1\n",
      "Df Model:                           1                                         \n",
      "Covariance Type:            nonrobust                                         \n",
      "==============================================================================\n",
      "                 coef    std err          t      P>|t|      [0.025      0.975]\n",
      "------------------------------------------------------------------------------\n",
      "const      -3.335e+04   1.96e+04     -1.698      0.108   -7.48e+04    8092.445\n",
      "caputil     4202.7151    358.786     11.714      0.000    3445.742    4959.688\n",
      "==============================================================================\n",
      "Omnibus:                        2.344   Durbin-Watson:                   0.634\n",
      "Prob(Omnibus):                  0.310   Jarque-Bera (JB):                1.898\n",
      "Skew:                          -0.721   Prob(JB):                        0.387\n",
      "Kurtosis:                       2.437   Cond. No.                         464.\n",
      "==============================================================================\n",
      "\n",
      "Warnings:\n",
      "[1] Standard Errors assume that the covariance matrix of the errors is correctly specified.\n",
      "pvalues\n",
      " const      1.077598e-01\n",
      "caputil    1.454602e-09\n",
      "dtype: float64\n",
      "tvalues\n",
      " const      -1.697874\n",
      "caputil    11.713701\n",
      "dtype: float64\n",
      "rsquared\n",
      " 0.8897612752328166\n",
      "rsquared_adj\n",
      " 0.8832766443641588\n"
     ]
    },
    {
     "name": "stderr",
     "output_type": "stream",
     "text": [
      "C:\\Users\\Tony Diana\\anaconda3\\lib\\site-packages\\numpy\\core\\fromnumeric.py:2389: FutureWarning: Method .ptp is deprecated and will be removed in a future version. Use numpy.ptp instead.\n",
      "  return ptp(axis=axis, out=out, **kwargs)\n",
      "C:\\Users\\Tony Diana\\anaconda3\\lib\\site-packages\\scipy\\stats\\stats.py:1416: UserWarning: kurtosistest only valid for n>=20 ... continuing anyway, n=19\n",
      "  \"anyway, n=%i\" % int(n))\n"
     ]
    }
   ],
   "source": [
    "# Add a constant\n",
    "X2 = sm.add_constant(X) \n",
    "# Define the model\n",
    "est = sm.OLS(Y, X2)\n",
    "# Fit the model\n",
    "est2 = est.fit()\n",
    "print(\"summary()\\n\",est2.summary())\n",
    "print(\"pvalues\\n\",est2.pvalues)\n",
    "print(\"tvalues\\n\",est2.tvalues)\n",
    "print(\"rsquared\\n\",est2.rsquared)\n",
    "print(\"rsquared_adj\\n\",est2.rsquared_adj)"
   ]
  },
  {
   "cell_type": "code",
   "execution_count": 85,
   "metadata": {},
   "outputs": [
    {
     "name": "stdout",
     "output_type": "stream",
     "text": [
      "0     162786.620151\n",
      "1     146480.085616\n",
      "2     139503.578572\n",
      "3     141436.827512\n",
      "4     178126.530216\n",
      "5     196660.503747\n",
      "6     207377.427217\n",
      "7     228979.382761\n",
      "8     220784.088343\n",
      "9     207671.617273\n",
      "10    212967.038282\n",
      "11    206158.639842\n",
      "12    194391.037600\n",
      "13    196786.585199\n",
      "14    205612.286881\n",
      "15    216497.318955\n",
      "16    211958.386661\n",
      "17    216581.373256\n",
      "18    217043.671916\n",
      "dtype: float64\n",
      "r2_score 0.8897612752328166\n"
     ]
    }
   ],
   "source": [
    "# Determine predicted values and R-squared with scikitlearn\n",
    "from sklearn.metrics import r2_score\n",
    "predictions = est2.predict(X2)\n",
    "\n",
    "print(est2.predict(X2))\n",
    "\n",
    "print(\"r2_score\",r2_score(Y,predictions))"
   ]
  },
  {
   "cell_type": "code",
   "execution_count": null,
   "metadata": {},
   "outputs": [],
   "source": []
  },
  {
   "cell_type": "code",
   "execution_count": null,
   "metadata": {},
   "outputs": [],
   "source": []
  }
 ],
 "metadata": {
  "kernelspec": {
   "display_name": "Python 3",
   "language": "python",
   "name": "python3"
  },
  "language_info": {
   "codemirror_mode": {
    "name": "ipython",
    "version": 3
   },
   "file_extension": ".py",
   "mimetype": "text/x-python",
   "name": "python",
   "nbconvert_exporter": "python",
   "pygments_lexer": "ipython3",
   "version": "3.6.7"
  }
 },
 "nbformat": 4,
 "nbformat_minor": 2
}
