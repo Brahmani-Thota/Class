{
 "cells": [
  {
   "cell_type": "code",
   "execution_count": 26,
   "metadata": {},
   "outputs": [],
   "source": [
    "import pandas as pd\n",
    "import numpy as np\n",
    "from pandas import Series, DataFrame\n",
    "from sklearn.linear_model import LinearRegression\n",
    "from sklearn.model_selection import KFold\n",
    "from sklearn.model_selection import train_test_split\n",
    "from sklearn.metrics import accuracy_score\n",
    "airport=pd.read_csv('F:/Machine Learning/airport.csv')"
   ]
  },
  {
   "cell_type": "code",
   "execution_count": 27,
   "metadata": {},
   "outputs": [
    {
     "data": {
      "text/plain": [
       "(19, 13)"
      ]
     },
     "execution_count": 27,
     "metadata": {},
     "output_type": "execute_result"
    }
   ],
   "source": [
    "airport.shape"
   ]
  },
  {
   "cell_type": "code",
   "execution_count": 28,
   "metadata": {},
   "outputs": [
    {
     "name": "stdout",
     "output_type": "stream",
     "text": [
      "    year     dep     arr  dep_dem  arr_dem  eff_aar     adr  cap_aar     cap  \\\n",
      "0   2000  172170  158570   215157   175647   339821  368792   339821  708613   \n",
      "1   2001  147010  133806   176997   144244   320077  336135   320077  656212   \n",
      "2   2002  142779  129089   169072   138061   317088  343905   317088  660993   \n",
      "3   2003  140023  126800   168626   138507   303844  337738   303844  641582   \n",
      "4   2004  161351  160474   203993   179710   302256  337324   302256  639580   \n",
      "5   2005  176738  176139   249869   209219   322701  321895   322836  644731   \n",
      "6   2006  191852  191288   326131   237164   335796  331485   337419  668904   \n",
      "7   2007  222946  222505   407468   332520   365119  343131   370455  713586   \n",
      "8   2008  221203  221458   352677   325057   365838  359354   372714  732068   \n",
      "9   2009  209595  209710   312026   288945   373893  350917   380245  731162   \n",
      "10  2010  200902  200595   277480   253438   349015  333458   351570  685028   \n",
      "11  2011  205231  204685   266431   263065   375289  339264   379989  719253   \n",
      "12  2012  202430  202162   254435   233863   409216  333894   412665  746559   \n",
      "13  2013  203798  203443   264611   252442   410030  327404   416274  743678   \n",
      "14  2014  213113  212793   269706   259825   416622  326557   422429  748986   \n",
      "15  2015  220122  220306   285469   275114   409928  323723   417113  740836   \n",
      "16  2016  225989  226432   296871   271421   421207  348720   426426  775146   \n",
      "17  2017  223126  223879   317699   299227   412406  332844   418746  751590   \n",
      "18  2018  227425  227342   312875   270243   430599  327024   436230  763254   \n",
      "\n",
      "    caputil  eff_dep  eff_arr   saer  \n",
      "0     46.67    91.93    94.31  93.00  \n",
      "1     42.79    93.41    95.48  94.34  \n",
      "2     41.13    94.81    95.87  95.29  \n",
      "3     41.59    94.26    94.73  94.47  \n",
      "4     50.32    93.22    94.93  94.02  \n",
      "5     54.73    91.55    93.92  92.63  \n",
      "6     57.28    91.98    94.20  92.92  \n",
      "7     62.42    90.42    91.82  91.05  \n",
      "8     60.47    89.35    92.10  90.67  \n",
      "9     57.35    89.91    92.47  91.14  \n",
      "10    58.61    92.05    92.89  92.45  \n",
      "11    56.99    91.84    92.76  92.30  \n",
      "12    54.19    93.28    94.91  94.06  \n",
      "13    54.76    93.27    94.07  93.66  \n",
      "14    56.86    93.58    93.62  93.60  \n",
      "15    59.45    93.68    93.92  93.80  \n",
      "16    58.37    93.35    94.09  93.71  \n",
      "17    59.47    92.18    93.47  92.81  \n",
      "18    59.58    92.29    94.00  93.08  \n"
     ]
    }
   ],
   "source": [
    "print(airport)"
   ]
  },
  {
   "cell_type": "code",
   "execution_count": 29,
   "metadata": {},
   "outputs": [],
   "source": [
    "airport=pd.DataFrame(airport, columns=['caputil', 'dep'])\n",
    "X=pd.DataFrame(airport['caputil'])\n",
    "Y=pd.DataFrame(airport['dep'])\n"
   ]
  },
  {
   "cell_type": "code",
   "execution_count": 35,
   "metadata": {},
   "outputs": [],
   "source": [
    "reg = LinearRegression()"
   ]
  },
  {
   "cell_type": "code",
   "execution_count": 36,
   "metadata": {},
   "outputs": [],
   "source": [
    "scores=[]\n",
    "kfold = KFold(n_splits=3, shuffle=True, random_state=42)"
   ]
  },
  {
   "cell_type": "code",
   "execution_count": 37,
   "metadata": {},
   "outputs": [
    {
     "name": "stdout",
     "output_type": "stream",
     "text": [
      "[0.9029142706220207, 0.9048352664783202, 0.5119143545760048]\n"
     ]
    }
   ],
   "source": [
    "for i, (train, test) in enumerate(kfold.split(X, Y)):\n",
    "    reg.fit(X.iloc[train,:], Y.iloc[train,:])\n",
    "    score = reg.score(X.iloc[test,:], Y.iloc[test,:])\n",
    "    scores.append(score)\n",
    "print(scores)"
   ]
  },
  {
   "cell_type": "code",
   "execution_count": 40,
   "metadata": {},
   "outputs": [
    {
     "name": "stdout",
     "output_type": "stream",
     "text": [
      "Coefficient of Determination: 0.8897612752328165\n"
     ]
    }
   ],
   "source": [
    "reg = LinearRegression().fit(X, Y)\n",
    "print('Coefficient of Determination:', reg.score(X, Y))"
   ]
  },
  {
   "cell_type": "code",
   "execution_count": 41,
   "metadata": {},
   "outputs": [
    {
     "name": "stdout",
     "output_type": "stream",
     "text": [
      "Coefficients: [[4202.71508638]]\n"
     ]
    }
   ],
   "source": [
    "print('Coefficients:', reg.coef_)"
   ]
  },
  {
   "cell_type": "code",
   "execution_count": 43,
   "metadata": {},
   "outputs": [
    {
     "name": "stdout",
     "output_type": "stream",
     "text": [
      "Intercept: [-33354.0929305]\n"
     ]
    }
   ],
   "source": [
    "print('Intercept:', reg.intercept_)"
   ]
  },
  {
   "cell_type": "code",
   "execution_count": 47,
   "metadata": {},
   "outputs": [],
   "source": [
    "Y_pred=reg.predict(Y)"
   ]
  },
  {
   "cell_type": "code",
   "execution_count": 49,
   "metadata": {},
   "outputs": [
    {
     "name": "stdout",
     "output_type": "stream",
     "text": [
      "[[7.23548102e+08]\n",
      " [6.17807791e+08]\n",
      " [6.00026103e+08]\n",
      " [5.88443420e+08]\n",
      " [6.78078928e+08]\n",
      " [7.42746105e+08]\n",
      " [8.06265941e+08]\n",
      " [9.36945164e+08]\n",
      " [9.29619831e+08]\n",
      " [8.80834714e+08]\n",
      " [8.44300512e+08]\n",
      " [8.62494066e+08]\n",
      " [8.50722261e+08]\n",
      " [8.56471575e+08]\n",
      " [8.95619866e+08]\n",
      " [9.25076696e+08]\n",
      " [9.49734026e+08]\n",
      " [9.37701652e+08]\n",
      " [9.55769124e+08]]\n"
     ]
    }
   ],
   "source": [
    "print(Y_pred)"
   ]
  },
  {
   "cell_type": "code",
   "execution_count": null,
   "metadata": {},
   "outputs": [],
   "source": []
  },
  {
   "cell_type": "code",
   "execution_count": null,
   "metadata": {},
   "outputs": [],
   "source": []
  }
 ],
 "metadata": {
  "kernelspec": {
   "display_name": "Python 3",
   "language": "python",
   "name": "python3"
  },
  "language_info": {
   "codemirror_mode": {
    "name": "ipython",
    "version": 3
   },
   "file_extension": ".py",
   "mimetype": "text/x-python",
   "name": "python",
   "nbconvert_exporter": "python",
   "pygments_lexer": "ipython3",
   "version": "3.6.7"
  }
 },
 "nbformat": 4,
 "nbformat_minor": 2
}
