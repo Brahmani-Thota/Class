{
 "cells": [
  {
   "cell_type": "code",
   "execution_count": 8,
   "metadata": {},
   "outputs": [
    {
     "name": "stderr",
     "output_type": "stream",
     "text": [
      "'c' argument looks like a single numeric RGB or RGBA sequence, which should be avoided as value-mapping will have precedence in case its length matches with 'x' & 'y'.  Please use a 2-D array with a single row if you really want to specify the same RGB or RGBA value for all points.\n"
     ]
    },
    {
     "data": {
      "image/png": "[encoded data removed]",
      "text/plain": [
       "<Figure size 432x288 with 1 Axes>"
      ]
     },
     "metadata": {
      "needs_background": "light"
     },
     "output_type": "display_data"
    }
   ],
   "source": [
    "from yellowbrick.text import DispersionPlot\n",
    "from os import path\n",
    "\n",
    "d = path.dirname(\"D:/sentiment analysis/JFK/jfk_post_73b.txt\")\n",
    "# Read the whole text.\n",
    "text = open(path.join(d, 'D:/sentiment analysis/JFK/jfk_post_73b.txt')).read()\n",
    "\n",
    "# Create a list of words from the corpus text\n",
    "text1 = [text.split()]\n",
    "\n",
    "# Choose words whose occurence in the text will be plotted\n",
    "target_words = ['airport', 'noise', 'runway', 'flights']\n",
    "\n",
    "# Create the visualizer and draw the plot\n",
    "visualizer = DispersionPlot(target_words)\n",
    "visualizer.fit(text1)\n",
    "visualizer.poof()\n"
   ]
  },
  {
   "cell_type": "code",
   "execution_count": null,
   "metadata": {},
   "outputs": [],
   "source": []
  },
  {
   "cell_type": "code",
   "execution_count": null,
   "metadata": {},
   "outputs": [],
   "source": []
  }
 ],
 "metadata": {
  "kernelspec": {
   "display_name": "Python 3",
   "language": "python",
   "name": "python3"
  },
  "language_info": {
   "codemirror_mode": {
    "name": "ipython",
    "version": 3
   },
   "file_extension": ".py",
   "mimetype": "text/x-python",
   "name": "python",
   "nbconvert_exporter": "python",
   "pygments_lexer": "ipython3",
   "version": "3.7.3"
  }
 },
 "nbformat": 4,
 "nbformat_minor": 2
}
